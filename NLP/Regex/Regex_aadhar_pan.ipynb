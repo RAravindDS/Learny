{
  "nbformat": 4,
  "nbformat_minor": 0,
  "metadata": {
    "colab": {
      "name": "Regex_aadhar_pan.ipynb",
      "provenance": [],
      "collapsed_sections": []
    },
    "kernelspec": {
      "name": "python3",
      "display_name": "Python 3"
    },
    "language_info": {
      "name": "python"
    }
  },
  "cells": [
    {
      "cell_type": "code",
      "execution_count": null,
      "metadata": {
        "id": "LTak5qEe4tWn"
      },
      "outputs": [],
      "source": [
        "# Download necessaries! \n",
        "!pip install -e git+https://github.com/mindee/doctr.git#egg=python-doctr[torch]\n",
        "!pip install git+https://github.com/onnx/tensorflow-onnx\n",
        "!sudo apt-get install fonts-freefont-ttf -y \n",
        "!pip install --user tensorflow-addons==0.8.3"
      ]
    },
    {
      "cell_type": "code",
      "source": [
        "# imports \n",
        "import re \n",
        "\n",
        "# Getting the OCR Model \n",
        "from doctr.io import DocumentFile   # If you are facing any error, just restart the kernel!\n",
        "from doctr.models import ocr_predictor\n",
        "\n",
        "model = ocr_predictor(pretrained=True)"
      ],
      "metadata": {
        "id": "oUd1zjhS5C5-"
      },
      "execution_count": 37,
      "outputs": []
    },
    {
      "cell_type": "code",
      "source": [
        "## aadhar card! \n",
        "def image_to_text(img): \n",
        "  \"\"\" input   : path\n",
        "      output  : image text\n",
        "  \"\"\"\n",
        "  doc = DocumentFile.from_images(img)\n",
        "  result = model(doc)\n",
        "  text = result.render()\n",
        "  # text = text.replace('\\n', '')\n",
        "  return text \n",
        "  \n",
        "def text_to_regex(path): \n",
        "  \"\"\"\n",
        "  input  : path, text \n",
        "  output : regex matched output \n",
        "  \"\"\"\n",
        "  text = image_to_text(path)\n",
        "  # pattern \n",
        "  pattern = re.compile(r'[0-9]{4}\\s[0-9]{4}\\s[0-9]{4}') \n",
        "  output = re.findall(pattern, text)\n",
        "  return output "
      ],
      "metadata": {
        "id": "K0nPmG4z5SZK"
      },
      "execution_count": 40,
      "outputs": []
    },
    {
      "cell_type": "markdown",
      "source": [
        "**Regex Explanation**\n",
        "\n",
        "```Python \n",
        "[0-9]{4}  # -> It gives the number between 0 to 9 if having a length of 4 \n",
        "/s  # -> space\n",
        "```"
      ],
      "metadata": {
        "id": "ueQuwBfIEMJg"
      }
    },
    {
      "cell_type": "code",
      "source": [
        "ans_1 = text_to_regex('/content/aadar.jpg')\n",
        "ans_1"
      ],
      "metadata": {
        "colab": {
          "base_uri": "https://localhost:8080/"
        },
        "id": "rfyNR-978GQu",
        "outputId": "5a777bfc-cc8c-41e6-9cd8-e3fc0c477994"
      },
      "execution_count": 41,
      "outputs": [
        {
          "output_type": "execute_result",
          "data": {
            "text/plain": [
              "['5613 0382 9978']"
            ]
          },
          "metadata": {},
          "execution_count": 41
        }
      ]
    },
    {
      "cell_type": "code",
      "source": [
        "ans_2 = text_to_regex('/content/aadar1.jpg')\n",
        "ans_2"
      ],
      "metadata": {
        "colab": {
          "base_uri": "https://localhost:8080/"
        },
        "id": "PfQSCbP18JMt",
        "outputId": "df872f30-d60b-4b12-d585-9bb92840856d"
      },
      "execution_count": 31,
      "outputs": [
        {
          "output_type": "execute_result",
          "data": {
            "text/plain": [
              "['4444 5555 6666']"
            ]
          },
          "metadata": {},
          "execution_count": 31
        }
      ]
    },
    {
      "cell_type": "code",
      "source": [
        "ans_3 = text_to_regex('/content/aadar2.jpg')\n",
        "ans_3"
      ],
      "metadata": {
        "colab": {
          "base_uri": "https://localhost:8080/"
        },
        "id": "p17Y1G8L8VP2",
        "outputId": "b5889244-ccbe-49eb-fadf-b91cc5227c28"
      },
      "execution_count": 34,
      "outputs": [
        {
          "output_type": "execute_result",
          "data": {
            "text/plain": [
              "['8158 4542 1351']"
            ]
          },
          "metadata": {},
          "execution_count": 34
        }
      ]
    },
    {
      "cell_type": "code",
      "source": [
        "ans_4 = text_to_regex('/content/aadar3.jpeg')\n",
        "ans_4"
      ],
      "metadata": {
        "colab": {
          "base_uri": "https://localhost:8080/"
        },
        "id": "CHxgzJVB8XwG",
        "outputId": "25e851ad-bad1-4b2c-8c4a-270a2bf49ad1"
      },
      "execution_count": 35,
      "outputs": [
        {
          "output_type": "execute_result",
          "data": {
            "text/plain": [
              "['7058 0479 5249']"
            ]
          },
          "metadata": {},
          "execution_count": 35
        }
      ]
    },
    {
      "cell_type": "code",
      "source": [
        "ans_5 = text_to_regex('/content/aadar4.jpg')\n",
        "ans_5"
      ],
      "metadata": {
        "colab": {
          "base_uri": "https://localhost:8080/"
        },
        "id": "BeiWoGpQ_rvy",
        "outputId": "af5f16d8-824b-410d-a5e8-337b6981b3c0"
      },
      "execution_count": 36,
      "outputs": [
        {
          "output_type": "execute_result",
          "data": {
            "text/plain": [
              "['8060 9098 4946']"
            ]
          },
          "metadata": {},
          "execution_count": 36
        }
      ]
    },
    {
      "cell_type": "code",
      "source": [
        "## pan card! \n",
        "\n",
        "def text_to_pan(path): \n",
        "  \"\"\"\n",
        "  input  : path \n",
        "  output : pan_id from text \n",
        "  \"\"\"\n",
        "  text = image_to_text(path)\n",
        "\n",
        "  # pan pattern \n",
        "  pattern = re.compile(\"[A-Za-z]{5}\\d{4}[A-Za-z]{1}\") \n",
        "  output = re.findall(pattern, text)\n",
        "  return output "
      ],
      "metadata": {
        "id": "53w-5-L8_1q8"
      },
      "execution_count": 43,
      "outputs": []
    },
    {
      "cell_type": "markdown",
      "source": [
        "**Regex explanation**\n",
        "\n",
        "```Python \n",
        "[A-Za-z]{5}  # it gives uncased alphabets with in the length of 5 \n",
        "\\d{4}        # it gives any digit with the length of 4 \n",
        "[A-Za-z]{1}  # it gives uncased alphabets with in the length of 1 \n",
        "```"
      ],
      "metadata": {
        "id": "pzRA3Zo_JKco"
      }
    },
    {
      "cell_type": "code",
      "source": [
        "pan_1 = text_to_pan('/content/pan1.jpg')\n",
        "pan_1 "
      ],
      "metadata": {
        "colab": {
          "base_uri": "https://localhost:8080/"
        },
        "id": "_z4doIqM__Tc",
        "outputId": "4eff2629-b81f-4656-a75a-5d4b083bd3ca"
      },
      "execution_count": 44,
      "outputs": [
        {
          "output_type": "execute_result",
          "data": {
            "text/plain": [
              "['GQBPK8700C']"
            ]
          },
          "metadata": {},
          "execution_count": 44
        }
      ]
    },
    {
      "cell_type": "code",
      "source": [
        "pan_2 = text_to_pan('/content/pan2.jpg')\n",
        "pan_2 "
      ],
      "metadata": {
        "colab": {
          "base_uri": "https://localhost:8080/"
        },
        "id": "rHCUGYh_IlMM",
        "outputId": "fef7d572-6668-4322-a7fb-2888684283d9"
      },
      "execution_count": 45,
      "outputs": [
        {
          "output_type": "execute_result",
          "data": {
            "text/plain": [
              "['BNFPS7312J']"
            ]
          },
          "metadata": {},
          "execution_count": 45
        }
      ]
    },
    {
      "cell_type": "code",
      "source": [
        "pan_3 = text_to_pan('/content/pan3.jpg')\n",
        "pan_3 "
      ],
      "metadata": {
        "colab": {
          "base_uri": "https://localhost:8080/"
        },
        "id": "0vie_ui8I4j3",
        "outputId": "4f7a4662-3bd4-4c0e-af43-edd79d6d9ad2"
      },
      "execution_count": 46,
      "outputs": [
        {
          "output_type": "execute_result",
          "data": {
            "text/plain": [
              "['CZKPM5229G']"
            ]
          },
          "metadata": {},
          "execution_count": 46
        }
      ]
    },
    {
      "cell_type": "code",
      "source": [
        "pan_4 = text_to_pan('/content/pan4.jpeg')\n",
        "pan_4"
      ],
      "metadata": {
        "colab": {
          "base_uri": "https://localhost:8080/"
        },
        "id": "JcbWDs8rI8Bm",
        "outputId": "681936ef-d068-4546-d269-9fa24a79cd75"
      },
      "execution_count": 48,
      "outputs": [
        {
          "output_type": "execute_result",
          "data": {
            "text/plain": [
              "['ALOPT1409P']"
            ]
          },
          "metadata": {},
          "execution_count": 48
        }
      ]
    }
  ]
}