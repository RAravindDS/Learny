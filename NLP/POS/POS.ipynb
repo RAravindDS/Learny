{
 "cells": [
  {
   "cell_type": "markdown",
   "id": "3821b7d9-b8ff-4f26-a457-13e4f5176ebe",
   "metadata": {},
   "source": [
    "<center><h1>𝓟𝓪𝓻𝓽𝓼 𝓸𝓯 𝓼𝓹𝓮𝓮𝓬𝓱 𝓽𝓪𝓰𝓰𝓲𝓷𝓰</h1></center>\n",
    "\n",
    "\n",
    "<center><img src=\"https://byteiota.com/wp-content/uploads/2021/01/POS-Tagging.jpg\" width=\"500\"/></center>"
   ]
  },
  {
   "cell_type": "markdown",
   "id": "91b70495-0a7f-4633-8137-c45e5e942c90",
   "metadata": {},
   "source": [
    "## _____TOC_____\n",
    "1. [**POS Tagging**](#POS-tagging)\n",
    "2. [**Basic POS**](#Basic-POS)\n",
    "3. [**In action**](#In-action)\n",
    "4. [**Examples of POS**](#Examples-of-POS)\n",
    "5. [**Visualization of POS**](#Visualization)\n",
    "6. [**Word Sense disambiguation(WSD)**](#Word-Sense-disambiguation(WSD))"
   ]
  },
  {
   "cell_type": "markdown",
   "id": "25d9156f-8807-4bed-ae8f-c016e5ffde37",
   "metadata": {},
   "source": [
    "### POS tagging \n",
    "\n",
    "**P**arts **O**f **S**peech tagging is the classification tasks which tags the word releated to the respective tags. \n",
    "\n",
    "<center><img src=\"https://s3.amazonaws.com/stackabuse/media/python-nlp-parts-speech-tagging-and-named-entity-recognition-2.png\" width=\"900\"/></center>\n",
    "\n",
    "POS tagging is the one of the most important `linguistic features` in the NLP, The POS is a part of `syntantic category`. For example: english has **`nine`** main categories `verb`, `adverb`, `noun`, `pronoun`, `adjective`, `conjuction`, `determiner`, `intersection`, and `preposition`. The set of categories, without any `morpholoical` and `Syntatic features` are called `**universeral tags**`. \n",
    "\n",
    "\n",
    "Here we are going to use the **`spaCy`** tool for extracting the `POS` from the sentences. The POS is a statistical model because the tag of the current word depend on the neighbor word and the word tag. The POS was done by two main models, `HMM` (**H**idden **M**arkov **M**odels)  and LSTM (**L**ong **S**hort **T**erm **M**emory) . Now a days all are using the LSTM for better accuracy, spacy also uses the same LSTM. \n",
    " \n",
    " \n",
    "**Why we need to learn the POS?**\n",
    "\n",
    "The answer is simple: many\n",
    "applications need to know the `word type` for better accuracy. Consider\n",
    "machine translation systems for an example of this: the words for `fish (V)`\n",
    "and `fish (N)` correspond to different words in `Spanish`, as illustrated bellow: \n",
    "\n",
    "---\n",
    "I will eat `fish/VB` tomorrow. -> `Pescaré/V mañana`.\n",
    "\n",
    "I eat `fish/NN`. -> Como `pescado/N`\n",
    "\n",
    "Syntactic information can be used in many NLU tasks, and playing some POS\n",
    "tricks can help your NLU code a lot. \n",
    "\n",
    "Some of the POS tags below: \n",
    "\n",
    "\n",
    "<img src=\"images/pos_tabel.png\" width=\"500\"/>   <img src=\"images/pos_tabel1.png\" width=\"500\"/>\n",
    "\n"
   ]
  },
  {
   "cell_type": "markdown",
   "id": "ec023cdf-72ae-4623-9ea7-f013b46424bd",
   "metadata": {},
   "source": [
    "### Basic POS\n",
    "\n",
    "<h2><center>𝓟𝓪𝓻𝓽𝓼 𝓸𝓯 𝓼𝓹𝓮𝓮𝓬𝓱 𝓮𝔁𝓹𝓵𝓪𝓷𝓪𝓽𝓲𝓸𝓷</center><h2>\n",
    "    \n",
    "#### 1.NOUN\n",
    "\n",
    "Noun is a name of the person, thing, place, or idea. Noun are often used with an article. But proper noun always start with Caps. Noun can be singular or plural, concrete or abstract.\n",
    "\n",
    "EX: A young **girl** bought me a **rose** for propose me (dream🙂)\n",
    "\n",
    "\n",
    "#### 2.PRONOUN \n",
    "PRONOUN is a word used in place of noun. A pronoun is usually substituted for a specific noun, which is called **antecedent**. Ex: the antencent of the pronoun in the above sentence is **she** referring *girl*. It can be classified into different types: personal pronouns refer to specific persons or things; possessive pronouns indicate ownership; reflexive pronouns are used to emphasize another noun or pronoun; relative pronouns introduce a subordinate clause; and demonstrative pronouns identify, point to, or refer to nouns.\n",
    "\n",
    "EX: The young girl bought **me** a very long letter and then **she** quickl proposed me (dream🙂🙂)\n",
    "Personal Pronoun: it referring a specific person or things like he, she, it , they, are, I, We, you, they\n",
    "\n",
    "\n",
    "#### 3. VERB \n",
    "Verb is simply a action or being. 'Jump, kill and propose (dream🙂)'\n",
    "\n",
    "There is main verb or sometimes one or more helping verbs there (she can sing) **sing** -> main verb and **can** helping verb. \n",
    "\n",
    "Ex: The young girl **brought** me a very long letter from the teacher, and then she quickly **disappeared**. Oh my!\n",
    "\n",
    "\n",
    "#### 4. ADJECTIVE\n",
    "It describes a noun or prononun or it modifies those or adds more meaning to noun. Articles are usally classified as adjective. it usually answer the question of which one, what kind or how many. In simple terms adjective tells about the quality of the noun. \n",
    "\n",
    "EX: The **young** girl brought me a very **long** letter from the teacher, and then she quickly disappeared. Oh my!\n",
    "    \n",
    "Ex: Black box: **Box**-> noun, **Black** -> adjective. \n",
    "\n",
    "Ex: Red Cloth: **Cloth** -> noun, **RED** -> adjective. \n",
    "    \n",
    "#### 5. ADVERB \n",
    "Adverb describes a verb, adjective or it modifies verb. It usually answers the questions of when, where, how, why, under what conditions, or to what degree. Adverbs often end in -ly. If the word adding more meaning to verb is called add+verb adverb. \n",
    "    \n",
    "EX: The young girl brought me a **very** long letter from the teacher, and **then** she **quickly** disappeared. Oh my!\n",
    "    \n",
    "Ex: sundar speaks **fast** -> adverb and **politely**, **gladly**, **loudly**. \n",
    "    \n",
    "    \n",
    "#### 6. PREPOSITION\n",
    "It shows the continuity of two nouns. for example: book is **on** the table, aravind is **inside** the bus. \n",
    "    \n",
    "    \n",
    "#### 7. CONJUCTION\n",
    "It joins words, pharase, clases all together: for example: rajkiran is a director **and** a actor, He is rich **yet** unhappy.     \n",
    "    \n",
    "#### 8. INTERJECTION\n",
    "Interjection is a word that helps to express the strong feelings like oops!, haa!, oh!. It often folllowed by exclamation point! \n",
    "    \n",
    "    \n",
    "Ex: The young girl brought me a very long letter from the teacher, and then she quickly disappeared. **Oh my!**\n",
    "\n",
    "    \n",
    "`If you want to learn more about pos see the reference section`"
   ]
  },
  {
   "cell_type": "markdown",
   "id": "26fa9b9f-448b-4570-816c-b3199f85b130",
   "metadata": {},
   "source": [
    "### In action\n",
    "\n",
    "As like previously discussed we use spaCy for this task."
   ]
  },
  {
   "cell_type": "code",
   "execution_count": 2,
   "id": "80d7f930-f379-4465-9657-cab45d67e979",
   "metadata": {},
   "outputs": [],
   "source": [
    "# imports \n",
    "import spacy  # spaCy \n",
    "from colorama import Fore  # for better output "
   ]
  },
  {
   "cell_type": "code",
   "execution_count": 17,
   "id": "16d6accf-61ea-4980-bd45-23fb002ecc92",
   "metadata": {},
   "outputs": [
    {
     "name": "stdout",
     "output_type": "stream",
     "text": [
      "\u001b[31mToken: \u001b[32mAlicia, \u001b[31mPOS: \u001b[32mPROPN\n",
      "\u001b[34m------------------------------\n",
      "\u001b[31mToken: \u001b[32mand, \u001b[31mPOS: \u001b[32mCCONJ\n",
      "\u001b[34m------------------------------\n",
      "\u001b[31mToken: \u001b[32mme, \u001b[31mPOS: \u001b[32mPRON\n",
      "\u001b[34m------------------------------\n",
      "\u001b[31mToken: \u001b[32mwent, \u001b[31mPOS: \u001b[32mVERB\n",
      "\u001b[34m------------------------------\n",
      "\u001b[31mToken: \u001b[32mto, \u001b[31mPOS: \u001b[32mADP\n",
      "\u001b[34m------------------------------\n",
      "\u001b[31mToken: \u001b[32mthe, \u001b[31mPOS: \u001b[32mDET\n",
      "\u001b[34m------------------------------\n",
      "\u001b[31mToken: \u001b[32mschool, \u001b[31mPOS: \u001b[32mNOUN\n",
      "\u001b[34m------------------------------\n",
      "\u001b[31mToken: \u001b[32mby, \u001b[31mPOS: \u001b[32mADP\n",
      "\u001b[34m------------------------------\n",
      "\u001b[31mToken: \u001b[32mbus, \u001b[31mPOS: \u001b[32mNOUN\n",
      "\u001b[34m------------------------------\n",
      "\u001b[31mToken: \u001b[32m., \u001b[31mPOS: \u001b[32mPUNCT\n",
      "\u001b[34m------------------------------\n"
     ]
    }
   ],
   "source": [
    "# load the model! \n",
    "nlp = spacy.load(\"en_core_web_sm\") \n",
    "\n",
    "# input sentence \n",
    "doc = nlp(\"Alicia and me went to the school by bus.\")\n",
    "\n",
    "# pos by spaCy \n",
    "for token in doc:\n",
    "    print(f\"{Fore.RED+'Token'}: {Fore.GREEN +token.text}, {Fore.RED+'POS'}: {Fore.GREEN + token.pos_}\")\n",
    "    print(Fore.BLUE + '-' * 30)"
   ]
  },
  {
   "cell_type": "markdown",
   "id": "57991de0-1c7c-4607-ac75-efa912d9a21c",
   "metadata": {},
   "source": [
    "**`CODE EXPLANATION`** \n",
    "\n",
    "```python \n",
    "for token in doc:  # getting the text from the container \n",
    "    print(token.text, token.pos_)  # token.text -> tokenized word, token.pos_ -> parts of speech tagger (inbuilt) \n",
    "```"
   ]
  },
  {
   "cell_type": "markdown",
   "id": "b7efa8e8-7a69-47cf-9c6b-0720427a2aeb",
   "metadata": {},
   "source": [
    "If you don't know any pos output, you can ask help from the spacy function itself, let's see"
   ]
  },
  {
   "cell_type": "code",
   "execution_count": 11,
   "id": "e41052dd-8d22-4fc1-8b13-32d1058dcd4b",
   "metadata": {},
   "outputs": [
    {
     "data": {
      "text/plain": [
       "'conjunction, subordinating or preposition'"
      ]
     },
     "execution_count": 11,
     "metadata": {},
     "output_type": "execute_result"
    }
   ],
   "source": [
    "# asking help from spacy \n",
    "spacy.explain('IN')"
   ]
  },
  {
   "cell_type": "code",
   "execution_count": 12,
   "id": "e5609db2-adbc-4668-803c-28a8a40e9e98",
   "metadata": {},
   "outputs": [
    {
     "data": {
      "text/plain": [
       "'proper noun'"
      ]
     },
     "execution_count": 12,
     "metadata": {},
     "output_type": "execute_result"
    }
   ],
   "source": [
    "# some more \n",
    "spacy.explain('PROPN')"
   ]
  },
  {
   "cell_type": "markdown",
   "id": "1216f3db-ac47-4757-8de1-116c890b27d5",
   "metadata": {},
   "source": [
    "If you want to get the tag you can use `tag_`!"
   ]
  },
  {
   "cell_type": "code",
   "execution_count": 19,
   "id": "984ff382-31e8-4045-955e-6f596808814e",
   "metadata": {},
   "outputs": [
    {
     "name": "stdout",
     "output_type": "stream",
     "text": [
      "\u001b[31mToken: \u001b[32mAlicia, \u001b[31mTAG:\u001b[32mNNP\n",
      "\u001b[31mToken: \u001b[32mand, \u001b[31mTAG:\u001b[32mCC\n",
      "\u001b[31mToken: \u001b[32mme, \u001b[31mTAG:\u001b[32mPRP\n",
      "\u001b[31mToken: \u001b[32mwent, \u001b[31mTAG:\u001b[32mVBD\n",
      "\u001b[31mToken: \u001b[32mto, \u001b[31mTAG:\u001b[32mIN\n",
      "\u001b[31mToken: \u001b[32mthe, \u001b[31mTAG:\u001b[32mDT\n",
      "\u001b[31mToken: \u001b[32mschool, \u001b[31mTAG:\u001b[32mNN\n",
      "\u001b[31mToken: \u001b[32mby, \u001b[31mTAG:\u001b[32mIN\n",
      "\u001b[31mToken: \u001b[32mbus, \u001b[31mTAG:\u001b[32mNN\n",
      "\u001b[31mToken: \u001b[32m., \u001b[31mTAG:\u001b[32m.\n"
     ]
    }
   ],
   "source": [
    "for token in doc: \n",
    "     print(f\"{Fore.RED+'Token'}: {Fore.GREEN +token.text}, {Fore.RED+'TAG'}:{Fore.GREEN + token.tag_}\")"
   ]
  },
  {
   "cell_type": "markdown",
   "id": "e8229dd0-844e-491b-aee9-f5bfdcc5e55a",
   "metadata": {},
   "source": [
    "Let's put all together!"
   ]
  },
  {
   "cell_type": "code",
   "execution_count": 21,
   "id": "b6965297-ad94-4e5c-9deb-9848c809753a",
   "metadata": {},
   "outputs": [
    {
     "name": "stdout",
     "output_type": "stream",
     "text": [
      "\u001b[34m                                                                                                                         |\n",
      "\u001b[31mToken: \u001b[32mMy, \u001b[31mPOS: \u001b[32mDET, \u001b[31mTag: \u001b[32mPRP$, \u001b[31mExplain for pos_: \u001b[32mdeterminer, \u001b[31mexplain for Tag_: \u001b[32mpronoun, possessive\n",
      "\u001b[34m-------------------------------------------------------------------------------------------------------------------------\n",
      "\u001b[34m                                                                                                                         |\n",
      "\u001b[31mToken: \u001b[32mfriend, \u001b[31mPOS: \u001b[32mNOUN, \u001b[31mTag: \u001b[32mNN, \u001b[31mExplain for pos_: \u001b[32mnoun, \u001b[31mexplain for Tag_: \u001b[32mnoun, singular or mass\n",
      "\u001b[34m-------------------------------------------------------------------------------------------------------------------------\n",
      "\u001b[34m                                                                                                                         |\n",
      "\u001b[31mToken: \u001b[32mwill, \u001b[31mPOS: \u001b[32mVERB, \u001b[31mTag: \u001b[32mMD, \u001b[31mExplain for pos_: \u001b[32mverb, \u001b[31mexplain for Tag_: \u001b[32mverb, modal auxiliary\n",
      "\u001b[34m-------------------------------------------------------------------------------------------------------------------------\n",
      "\u001b[34m                                                                                                                         |\n",
      "\u001b[31mToken: \u001b[32mfly, \u001b[31mPOS: \u001b[32mVERB, \u001b[31mTag: \u001b[32mVB, \u001b[31mExplain for pos_: \u001b[32mverb, \u001b[31mexplain for Tag_: \u001b[32mverb, base form\n",
      "\u001b[34m-------------------------------------------------------------------------------------------------------------------------\n",
      "\u001b[34m                                                                                                                         |\n",
      "\u001b[31mToken: \u001b[32mto, \u001b[31mPOS: \u001b[32mADP, \u001b[31mTag: \u001b[32mIN, \u001b[31mExplain for pos_: \u001b[32madposition, \u001b[31mexplain for Tag_: \u001b[32mconjunction, subordinating or preposition\n",
      "\u001b[34m-------------------------------------------------------------------------------------------------------------------------\n",
      "\u001b[34m                                                                                                                         |\n",
      "\u001b[31mToken: \u001b[32mNew, \u001b[31mPOS: \u001b[32mPROPN, \u001b[31mTag: \u001b[32mNNP, \u001b[31mExplain for pos_: \u001b[32mproper noun, \u001b[31mexplain for Tag_: \u001b[32mnoun, proper singular\n",
      "\u001b[34m-------------------------------------------------------------------------------------------------------------------------\n",
      "\u001b[34m                                                                                                                         |\n",
      "\u001b[31mToken: \u001b[32mYork, \u001b[31mPOS: \u001b[32mPROPN, \u001b[31mTag: \u001b[32mNNP, \u001b[31mExplain for pos_: \u001b[32mproper noun, \u001b[31mexplain for Tag_: \u001b[32mnoun, proper singular\n",
      "\u001b[34m-------------------------------------------------------------------------------------------------------------------------\n",
      "\u001b[34m                                                                                                                         |\n",
      "\u001b[31mToken: \u001b[32mfast, \u001b[31mPOS: \u001b[32mADV, \u001b[31mTag: \u001b[32mRB, \u001b[31mExplain for pos_: \u001b[32madverb, \u001b[31mexplain for Tag_: \u001b[32madverb\n",
      "\u001b[34m-------------------------------------------------------------------------------------------------------------------------\n",
      "\u001b[34m                                                                                                                         |\n",
      "\u001b[31mToken: \u001b[32mand, \u001b[31mPOS: \u001b[32mCCONJ, \u001b[31mTag: \u001b[32mCC, \u001b[31mExplain for pos_: \u001b[32mcoordinating conjunction, \u001b[31mexplain for Tag_: \u001b[32mconjunction, coordinating\n",
      "\u001b[34m-------------------------------------------------------------------------------------------------------------------------\n",
      "\u001b[34m                                                                                                                         |\n",
      "\u001b[31mToken: \u001b[32mshe, \u001b[31mPOS: \u001b[32mPRON, \u001b[31mTag: \u001b[32mPRP, \u001b[31mExplain for pos_: \u001b[32mpronoun, \u001b[31mexplain for Tag_: \u001b[32mpronoun, personal\n",
      "\u001b[34m-------------------------------------------------------------------------------------------------------------------------\n",
      "\u001b[34m                                                                                                                         |\n",
      "\u001b[31mToken: \u001b[32mis, \u001b[31mPOS: \u001b[32mAUX, \u001b[31mTag: \u001b[32mVBZ, \u001b[31mExplain for pos_: \u001b[32mauxiliary, \u001b[31mexplain for Tag_: \u001b[32mverb, 3rd person singular present\n",
      "\u001b[34m-------------------------------------------------------------------------------------------------------------------------\n",
      "\u001b[34m                                                                                                                         |\n",
      "\u001b[31mToken: \u001b[32mstayingthere, \u001b[31mPOS: \u001b[32mADJ, \u001b[31mTag: \u001b[32mJJ, \u001b[31mExplain for pos_: \u001b[32madjective, \u001b[31mexplain for Tag_: \u001b[32madjective\n",
      "\u001b[34m-------------------------------------------------------------------------------------------------------------------------\n",
      "\u001b[34m                                                                                                                         |\n",
      "\u001b[31mToken: \u001b[32mfor, \u001b[31mPOS: \u001b[32mADP, \u001b[31mTag: \u001b[32mIN, \u001b[31mExplain for pos_: \u001b[32madposition, \u001b[31mexplain for Tag_: \u001b[32mconjunction, subordinating or preposition\n",
      "\u001b[34m-------------------------------------------------------------------------------------------------------------------------\n",
      "\u001b[34m                                                                                                                         |\n",
      "\u001b[31mToken: \u001b[32m3, \u001b[31mPOS: \u001b[32mNUM, \u001b[31mTag: \u001b[32mCD, \u001b[31mExplain for pos_: \u001b[32mnumeral, \u001b[31mexplain for Tag_: \u001b[32mcardinal number\n",
      "\u001b[34m-------------------------------------------------------------------------------------------------------------------------\n",
      "\u001b[34m                                                                                                                         |\n",
      "\u001b[31mToken: \u001b[32mdays, \u001b[31mPOS: \u001b[32mNOUN, \u001b[31mTag: \u001b[32mNNS, \u001b[31mExplain for pos_: \u001b[32mnoun, \u001b[31mexplain for Tag_: \u001b[32mnoun, plural\n",
      "\u001b[34m-------------------------------------------------------------------------------------------------------------------------\n",
      "\u001b[34m                                                                                                                         |\n",
      "\u001b[31mToken: \u001b[32m., \u001b[31mPOS: \u001b[32mPUNCT, \u001b[31mTag: \u001b[32m., \u001b[31mExplain for pos_: \u001b[32mpunctuation, \u001b[31mexplain for Tag_: \u001b[32mpunctuation mark, sentence closer\n",
      "\u001b[34m-------------------------------------------------------------------------------------------------------------------------\n"
     ]
    }
   ],
   "source": [
    "# input sentence\n",
    "doc = nlp(\"My friend will fly to New York fast and she is stayingthere for 3 days.\")\n",
    "\n",
    "# all together! \n",
    "for token in doc:\n",
    "    print(Fore.BLUE + '                                                                                                                         |')\n",
    "    print(f\"{Fore.RED+'Token'}: {Fore.GREEN +token.text}, {Fore.RED+'POS'}: {Fore.GREEN + token.pos_}, {Fore.RED +'Tag'}: {Fore.GREEN + token.tag_}, {Fore.RED+'Explain for pos_'}: {Fore.GREEN + spacy.explain(token.pos_)}, {Fore.RED + 'explain for Tag_'}: {Fore.GREEN + spacy.explain(token.tag_)}\")\n",
    "    print(Fore.BLUE + '-------------------------------------------------------------------------------------------------------------------------')"
   ]
  },
  {
   "cell_type": "markdown",
   "id": "d46371d8-3ac5-4ca4-b151-9990d75851e5",
   "metadata": {},
   "source": [
    "**`This is a building block. Furhter you can use this techniques in dependency parsing`**"
   ]
  },
  {
   "cell_type": "markdown",
   "id": "9f5cffba-f8e8-4e1e-ac81-916b1c15cb38",
   "metadata": {},
   "source": [
    "### Examples of POS \n",
    "\n",
    "Let's see how it is usefull in real world. \n",
    "\n",
    "Consider if you want to extract the word only in `VGB` or `VB` tag, you can use this! "
   ]
  },
  {
   "cell_type": "code",
   "execution_count": 35,
   "id": "c8d79f1b-84c7-406c-a593-071a52643c2e",
   "metadata": {},
   "outputs": [
    {
     "name": "stdout",
     "output_type": "stream",
     "text": [
      "[]\n",
      "[('flying', 'fly')]\n",
      "[('fly', 'fly')]\n"
     ]
    }
   ],
   "source": [
    "# MOre Sentences\n",
    "sent1 = \"I flew to Rome.\"\n",
    "sent2 = \"I'm flying to Rome.\"\n",
    "sent3 = \"I will fly to Rome.\"\n",
    "\n",
    "# putting into container \n",
    "doc1 = nlp(sent1)\n",
    "doc2 = nlp(sent2)\n",
    "doc3 = nlp(sent3)\n",
    "\n",
    "# extracting expected pos_ \n",
    "for doc in [doc1, doc2, doc3]:\n",
    "    print([(w.text, w.lemma_) for w in doc if w.tag_== 'VBG' or w.tag_== 'VB'])\n",
    "    "
   ]
  },
  {
   "cell_type": "markdown",
   "id": "6d2906ec-5bce-4459-91cf-e39b9b12011c",
   "metadata": {},
   "source": [
    "**`Code Explanation`**\n",
    "\n",
    "```Python\n",
    "# More sentences \n",
    "sent1 = \"I flew to Rome.\"\n",
    "sent2 = \"I'm flying to Rome.\"\n",
    "sent3 = \"I will fly to Rome.\"\n",
    "\n",
    "# Putting all the sentences inside the container \n",
    "doc1 = nlp(sent1)\n",
    "doc2 = nlp(sent2)\n",
    "doc3 = nlp(sent3)\n",
    "\n",
    "# Extracting the word in VGB OR VB \n",
    "for doc in [doc1, doc2, doc3]:\n",
    "    print([(w.text, w.lemma_) for w in doc if w.tag_== 'VBG' or w.tag_== 'VB'])  # lemma_ -> lemmatized word, text -> tokenized word \n",
    "    \n",
    "# VBG (a verb in present progressive form) eX: I'm eating (This referring the present, and it also continuing) \n",
    "# VB (a verb in base/ infinite form) \n",
    "```"
   ]
  },
  {
   "cell_type": "markdown",
   "id": "a03dfaa1-0969-41a8-96c6-f48a2516b3bb",
   "metadata": {},
   "source": [
    "### Visualization\n",
    "\n",
    "spaCy having very cool visualization for `POS TAGS`"
   ]
  },
  {
   "cell_type": "code",
   "execution_count": 22,
   "id": "46144362-a23a-44b7-96e7-8788798aaf87",
   "metadata": {},
   "outputs": [],
   "source": [
    "# imports \n",
    "from spacy import displacy "
   ]
  },
  {
   "cell_type": "code",
   "execution_count": 27,
   "id": "05eb21ab-7f76-4890-bca2-9ef172625251",
   "metadata": {},
   "outputs": [
    {
     "data": {
      "text/html": [
       "<span class=\"tex2jax_ignore\"><svg xmlns=\"http://www.w3.org/2000/svg\" xmlns:xlink=\"http://www.w3.org/1999/xlink\" xml:lang=\"en\" id=\"698f12c5e6804218bea0bdb00b792994-0\" class=\"displacy\" width=\"925\" height=\"312.0\" direction=\"ltr\" style=\"max-width: none; height: 312.0px; color: #000000; background: #ffffff; font-family: Arial; direction: ltr\">\n",
       "<text class=\"displacy-token\" fill=\"currentColor\" text-anchor=\"middle\" y=\"222.0\">\n",
       "    <tspan class=\"displacy-word\" fill=\"currentColor\" x=\"50\">I</tspan>\n",
       "    <tspan class=\"displacy-tag\" dy=\"2em\" fill=\"currentColor\" x=\"50\">PRON</tspan>\n",
       "</text>\n",
       "\n",
       "<text class=\"displacy-token\" fill=\"currentColor\" text-anchor=\"middle\" y=\"222.0\">\n",
       "    <tspan class=\"displacy-word\" fill=\"currentColor\" x=\"225\">love</tspan>\n",
       "    <tspan class=\"displacy-tag\" dy=\"2em\" fill=\"currentColor\" x=\"225\">VERB</tspan>\n",
       "</text>\n",
       "\n",
       "<text class=\"displacy-token\" fill=\"currentColor\" text-anchor=\"middle\" y=\"222.0\">\n",
       "    <tspan class=\"displacy-word\" fill=\"currentColor\" x=\"400\">to</tspan>\n",
       "    <tspan class=\"displacy-tag\" dy=\"2em\" fill=\"currentColor\" x=\"400\">PART</tspan>\n",
       "</text>\n",
       "\n",
       "<text class=\"displacy-token\" fill=\"currentColor\" text-anchor=\"middle\" y=\"222.0\">\n",
       "    <tspan class=\"displacy-word\" fill=\"currentColor\" x=\"575\">learn</tspan>\n",
       "    <tspan class=\"displacy-tag\" dy=\"2em\" fill=\"currentColor\" x=\"575\">VERB</tspan>\n",
       "</text>\n",
       "\n",
       "<text class=\"displacy-token\" fill=\"currentColor\" text-anchor=\"middle\" y=\"222.0\">\n",
       "    <tspan class=\"displacy-word\" fill=\"currentColor\" x=\"750\">NLP</tspan>\n",
       "    <tspan class=\"displacy-tag\" dy=\"2em\" fill=\"currentColor\" x=\"750\">PROPN</tspan>\n",
       "</text>\n",
       "\n",
       "<g class=\"displacy-arrow\">\n",
       "    <path class=\"displacy-arc\" id=\"arrow-698f12c5e6804218bea0bdb00b792994-0-0\" stroke-width=\"2px\" d=\"M70,177.0 C70,89.5 220.0,89.5 220.0,177.0\" fill=\"none\" stroke=\"currentColor\"/>\n",
       "    <text dy=\"1.25em\" style=\"font-size: 0.8em; letter-spacing: 1px\">\n",
       "        <textPath xlink:href=\"#arrow-698f12c5e6804218bea0bdb00b792994-0-0\" class=\"displacy-label\" startOffset=\"50%\" side=\"left\" fill=\"currentColor\" text-anchor=\"middle\">nsubj</textPath>\n",
       "    </text>\n",
       "    <path class=\"displacy-arrowhead\" d=\"M70,179.0 L62,167.0 78,167.0\" fill=\"currentColor\"/>\n",
       "</g>\n",
       "\n",
       "<g class=\"displacy-arrow\">\n",
       "    <path class=\"displacy-arc\" id=\"arrow-698f12c5e6804218bea0bdb00b792994-0-1\" stroke-width=\"2px\" d=\"M420,177.0 C420,89.5 570.0,89.5 570.0,177.0\" fill=\"none\" stroke=\"currentColor\"/>\n",
       "    <text dy=\"1.25em\" style=\"font-size: 0.8em; letter-spacing: 1px\">\n",
       "        <textPath xlink:href=\"#arrow-698f12c5e6804218bea0bdb00b792994-0-1\" class=\"displacy-label\" startOffset=\"50%\" side=\"left\" fill=\"currentColor\" text-anchor=\"middle\">aux</textPath>\n",
       "    </text>\n",
       "    <path class=\"displacy-arrowhead\" d=\"M420,179.0 L412,167.0 428,167.0\" fill=\"currentColor\"/>\n",
       "</g>\n",
       "\n",
       "<g class=\"displacy-arrow\">\n",
       "    <path class=\"displacy-arc\" id=\"arrow-698f12c5e6804218bea0bdb00b792994-0-2\" stroke-width=\"2px\" d=\"M245,177.0 C245,2.0 575.0,2.0 575.0,177.0\" fill=\"none\" stroke=\"currentColor\"/>\n",
       "    <text dy=\"1.25em\" style=\"font-size: 0.8em; letter-spacing: 1px\">\n",
       "        <textPath xlink:href=\"#arrow-698f12c5e6804218bea0bdb00b792994-0-2\" class=\"displacy-label\" startOffset=\"50%\" side=\"left\" fill=\"currentColor\" text-anchor=\"middle\">xcomp</textPath>\n",
       "    </text>\n",
       "    <path class=\"displacy-arrowhead\" d=\"M575.0,179.0 L583.0,167.0 567.0,167.0\" fill=\"currentColor\"/>\n",
       "</g>\n",
       "\n",
       "<g class=\"displacy-arrow\">\n",
       "    <path class=\"displacy-arc\" id=\"arrow-698f12c5e6804218bea0bdb00b792994-0-3\" stroke-width=\"2px\" d=\"M595,177.0 C595,89.5 745.0,89.5 745.0,177.0\" fill=\"none\" stroke=\"currentColor\"/>\n",
       "    <text dy=\"1.25em\" style=\"font-size: 0.8em; letter-spacing: 1px\">\n",
       "        <textPath xlink:href=\"#arrow-698f12c5e6804218bea0bdb00b792994-0-3\" class=\"displacy-label\" startOffset=\"50%\" side=\"left\" fill=\"currentColor\" text-anchor=\"middle\">dobj</textPath>\n",
       "    </text>\n",
       "    <path class=\"displacy-arrowhead\" d=\"M745.0,179.0 L753.0,167.0 737.0,167.0\" fill=\"currentColor\"/>\n",
       "</g>\n",
       "</svg></span>"
      ],
      "text/plain": [
       "<IPython.core.display.HTML object>"
      ]
     },
     "metadata": {},
     "output_type": "display_data"
    }
   ],
   "source": [
    "# input sentence \n",
    "doc = nlp(\"I love to learn NLP\")\n",
    "\n",
    "displacy.render(doc, style = 'dep')  # displacy.render helps to visualize the pos_ "
   ]
  },
  {
   "cell_type": "code",
   "execution_count": 34,
   "id": "89b11e70-7cca-47a2-84fe-49130d66a4bb",
   "metadata": {},
   "outputs": [
    {
     "data": {
      "text/html": [
       "<span class=\"tex2jax_ignore\"><svg xmlns=\"http://www.w3.org/2000/svg\" xmlns:xlink=\"http://www.w3.org/1999/xlink\" xml:lang=\"en\" id=\"16cefd26aa1644cea08bafe113d0b3a4-0\" class=\"displacy\" width=\"1100\" height=\"399.5\" direction=\"ltr\" style=\"max-width: none; height: 399.5px; color: #000000; background: #ffffff; font-family: Arial; direction: ltr\">\n",
       "<text class=\"displacy-token\" fill=\"currentColor\" text-anchor=\"middle\" y=\"309.5\">\n",
       "    <tspan class=\"displacy-word\" fill=\"currentColor\" x=\"50\">Parts</tspan>\n",
       "    <tspan class=\"displacy-tag\" dy=\"2em\" fill=\"currentColor\" x=\"50\">NOUN</tspan>\n",
       "</text>\n",
       "\n",
       "<text class=\"displacy-token\" fill=\"currentColor\" text-anchor=\"middle\" y=\"309.5\">\n",
       "    <tspan class=\"displacy-word\" fill=\"currentColor\" x=\"225\">of</tspan>\n",
       "    <tspan class=\"displacy-tag\" dy=\"2em\" fill=\"currentColor\" x=\"225\">ADP</tspan>\n",
       "</text>\n",
       "\n",
       "<text class=\"displacy-token\" fill=\"currentColor\" text-anchor=\"middle\" y=\"309.5\">\n",
       "    <tspan class=\"displacy-word\" fill=\"currentColor\" x=\"400\">speech</tspan>\n",
       "    <tspan class=\"displacy-tag\" dy=\"2em\" fill=\"currentColor\" x=\"400\">NOUN</tspan>\n",
       "</text>\n",
       "\n",
       "<text class=\"displacy-token\" fill=\"currentColor\" text-anchor=\"middle\" y=\"309.5\">\n",
       "    <tspan class=\"displacy-word\" fill=\"currentColor\" x=\"575\">is</tspan>\n",
       "    <tspan class=\"displacy-tag\" dy=\"2em\" fill=\"currentColor\" x=\"575\">AUX</tspan>\n",
       "</text>\n",
       "\n",
       "<text class=\"displacy-token\" fill=\"currentColor\" text-anchor=\"middle\" y=\"309.5\">\n",
       "    <tspan class=\"displacy-word\" fill=\"currentColor\" x=\"750\">very</tspan>\n",
       "    <tspan class=\"displacy-tag\" dy=\"2em\" fill=\"currentColor\" x=\"750\">ADV</tspan>\n",
       "</text>\n",
       "\n",
       "<text class=\"displacy-token\" fill=\"currentColor\" text-anchor=\"middle\" y=\"309.5\">\n",
       "    <tspan class=\"displacy-word\" fill=\"currentColor\" x=\"925\">boaring, ....</tspan>\n",
       "    <tspan class=\"displacy-tag\" dy=\"2em\" fill=\"currentColor\" x=\"925\">ADJ</tspan>\n",
       "</text>\n",
       "\n",
       "<g class=\"displacy-arrow\">\n",
       "    <path class=\"displacy-arc\" id=\"arrow-16cefd26aa1644cea08bafe113d0b3a4-0-0\" stroke-width=\"2px\" d=\"M70,264.5 C70,2.0 575.0,2.0 575.0,264.5\" fill=\"none\" stroke=\"currentColor\"/>\n",
       "    <text dy=\"1.25em\" style=\"font-size: 0.8em; letter-spacing: 1px\">\n",
       "        <textPath xlink:href=\"#arrow-16cefd26aa1644cea08bafe113d0b3a4-0-0\" class=\"displacy-label\" startOffset=\"50%\" side=\"left\" fill=\"currentColor\" text-anchor=\"middle\">nsubj</textPath>\n",
       "    </text>\n",
       "    <path class=\"displacy-arrowhead\" d=\"M70,266.5 L62,254.5 78,254.5\" fill=\"currentColor\"/>\n",
       "</g>\n",
       "\n",
       "<g class=\"displacy-arrow\">\n",
       "    <path class=\"displacy-arc\" id=\"arrow-16cefd26aa1644cea08bafe113d0b3a4-0-1\" stroke-width=\"2px\" d=\"M70,264.5 C70,177.0 215.0,177.0 215.0,264.5\" fill=\"none\" stroke=\"currentColor\"/>\n",
       "    <text dy=\"1.25em\" style=\"font-size: 0.8em; letter-spacing: 1px\">\n",
       "        <textPath xlink:href=\"#arrow-16cefd26aa1644cea08bafe113d0b3a4-0-1\" class=\"displacy-label\" startOffset=\"50%\" side=\"left\" fill=\"currentColor\" text-anchor=\"middle\">prep</textPath>\n",
       "    </text>\n",
       "    <path class=\"displacy-arrowhead\" d=\"M215.0,266.5 L223.0,254.5 207.0,254.5\" fill=\"currentColor\"/>\n",
       "</g>\n",
       "\n",
       "<g class=\"displacy-arrow\">\n",
       "    <path class=\"displacy-arc\" id=\"arrow-16cefd26aa1644cea08bafe113d0b3a4-0-2\" stroke-width=\"2px\" d=\"M245,264.5 C245,177.0 390.0,177.0 390.0,264.5\" fill=\"none\" stroke=\"currentColor\"/>\n",
       "    <text dy=\"1.25em\" style=\"font-size: 0.8em; letter-spacing: 1px\">\n",
       "        <textPath xlink:href=\"#arrow-16cefd26aa1644cea08bafe113d0b3a4-0-2\" class=\"displacy-label\" startOffset=\"50%\" side=\"left\" fill=\"currentColor\" text-anchor=\"middle\">pobj</textPath>\n",
       "    </text>\n",
       "    <path class=\"displacy-arrowhead\" d=\"M390.0,266.5 L398.0,254.5 382.0,254.5\" fill=\"currentColor\"/>\n",
       "</g>\n",
       "\n",
       "<g class=\"displacy-arrow\">\n",
       "    <path class=\"displacy-arc\" id=\"arrow-16cefd26aa1644cea08bafe113d0b3a4-0-3\" stroke-width=\"2px\" d=\"M770,264.5 C770,177.0 915.0,177.0 915.0,264.5\" fill=\"none\" stroke=\"currentColor\"/>\n",
       "    <text dy=\"1.25em\" style=\"font-size: 0.8em; letter-spacing: 1px\">\n",
       "        <textPath xlink:href=\"#arrow-16cefd26aa1644cea08bafe113d0b3a4-0-3\" class=\"displacy-label\" startOffset=\"50%\" side=\"left\" fill=\"currentColor\" text-anchor=\"middle\">advmod</textPath>\n",
       "    </text>\n",
       "    <path class=\"displacy-arrowhead\" d=\"M770,266.5 L762,254.5 778,254.5\" fill=\"currentColor\"/>\n",
       "</g>\n",
       "\n",
       "<g class=\"displacy-arrow\">\n",
       "    <path class=\"displacy-arc\" id=\"arrow-16cefd26aa1644cea08bafe113d0b3a4-0-4\" stroke-width=\"2px\" d=\"M595,264.5 C595,89.5 920.0,89.5 920.0,264.5\" fill=\"none\" stroke=\"currentColor\"/>\n",
       "    <text dy=\"1.25em\" style=\"font-size: 0.8em; letter-spacing: 1px\">\n",
       "        <textPath xlink:href=\"#arrow-16cefd26aa1644cea08bafe113d0b3a4-0-4\" class=\"displacy-label\" startOffset=\"50%\" side=\"left\" fill=\"currentColor\" text-anchor=\"middle\">acomp</textPath>\n",
       "    </text>\n",
       "    <path class=\"displacy-arrowhead\" d=\"M920.0,266.5 L928.0,254.5 912.0,254.5\" fill=\"currentColor\"/>\n",
       "</g>\n",
       "</svg></span>"
      ],
      "text/plain": [
       "<IPython.core.display.HTML object>"
      ]
     },
     "metadata": {},
     "output_type": "display_data"
    }
   ],
   "source": [
    "# CONFUISNG SENTENCE✨ \n",
    "doc = nlp(\"Parts of speech is very boaring, ....\") \n",
    "\n",
    "displacy.render(doc, style = 'dep')"
   ]
  },
  {
   "cell_type": "markdown",
   "id": "f2c5bd29-43f3-4674-8ae6-96357d2a753f",
   "metadata": {},
   "source": [
    "### Word Sense disambiguation(WSD)\n",
    "\n",
    "Let's discuss about the most common problem in NLU **Word-Sense-disambiguation(WSD)**. WSD is usefull to which sense the particular sentence is used in a sentence. \n",
    "\n",
    "**Ex:** \n",
    "\n",
    "`Bass` — **`seabass, fish (noun (N))`**\n",
    "\n",
    "`Bass` — **`lowest male voice (N)`**\n",
    "\n",
    "`Bass`— **`male singer with lowest voice range(N)`**\n",
    "\n",
    "Determining the sense of the word can be crucial in search engines, machine translation, and question-answering systems. But some times this spacy tagger will fail this, you can see in the previous example it not given the correct POS tag for the word, We need more sufficicated model for tagging the word sense. This is the common problem in the **NLU**. "
   ]
  },
  {
   "cell_type": "markdown",
   "id": "c364aebf-86cb-4413-95c2-f7f26fb08086",
   "metadata": {},
   "source": [
    "### ______Reference______\n",
    "- [**Mastering spaCy**](https://www.amazon.com/Mastering-spaCy-end-end-implementing/dp/1800563353) \n",
    "- [**Resources to learn POS**](http://www.butte.edu/departments/cas/tipsheets/grammar/parts_of_speech.html)"
   ]
  }
 ],
 "metadata": {
  "kernelspec": {
   "display_name": "Python 3 (ipykernel)",
   "language": "python",
   "name": "python3"
  },
  "language_info": {
   "codemirror_mode": {
    "name": "ipython",
    "version": 3
   },
   "file_extension": ".py",
   "mimetype": "text/x-python",
   "name": "python",
   "nbconvert_exporter": "python",
   "pygments_lexer": "ipython3",
   "version": "3.9.7"
  }
 },
 "nbformat": 4,
 "nbformat_minor": 5
}
