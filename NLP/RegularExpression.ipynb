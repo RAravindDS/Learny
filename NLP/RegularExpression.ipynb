{
 "cells": [
  {
   "cell_type": "markdown",
   "id": "ed985d2a-5364-4c1d-95f5-faae4b2f0a09",
   "metadata": {},
   "source": [
    "<center><h1>𝕽𝖊𝖌𝖚𝖑𝖆𝖗 𝖊𝖝𝖕𝖗𝖊𝖘𝖘𝖎𝖔𝖓</h1></center>"
   ]
  },
  {
   "cell_type": "markdown",
   "id": "83974def-00e1-4c52-93b6-8da2417b5924",
   "metadata": {},
   "source": [
    "Regular expressions are `text patterns` that define the form a `text string` should have. \n",
    "Using them, among other usages, it will be possible to do the following activities:\n",
    "* Check if an input honors a given pattern; for example, we can check whether \n",
    "a value entered in a HTML formulary is a valid e-mail address\n",
    "* Look for a pattern appearance in a piece of text; for example, check if \n",
    "either the word \"color\" or the word \"colour\" appears in a document \n",
    "with just one scan\n",
    "* Extract specific portions of a text; for example, extract the postal code \n",
    "of an address\n",
    "* Replace portions of text; for example, change any appearance of \"color\" \n",
    "or \"colour\" with \"red\"\n",
    "* Split a larger text into smaller pieces, for example, splitting a text by any \n",
    "appearance of the dot, comma, or newline characters. \n",
    "* It can able to extract a specific document easily from a large corpus like email, address, phone nr etc...\n",
    "* Please note this is also a `case sensitive`. "
   ]
  },
  {
   "cell_type": "markdown",
   "id": "df8d2c94-3234-4628-8b13-574ea37efde3",
   "metadata": {},
   "source": [
    "Before going to detail. Let's remind the name of the symbols first! \n",
    "\n",
    "* Backslash \\\n",
    "* Caret ^\n",
    "* Dollar sign $\n",
    "* Dot .\n",
    "* Pipe symbol |\n",
    "* Question mark ?\n",
    "* Asterisk *\n",
    "* Plus sign +\n",
    "* Opening parenthesis (\n",
    "* Closing parenthesis )\n",
    "* Opening square bracket [\n",
    "* The opening curly brace {\n",
    "\n",
    "Because we are going to use this symbols fully in the regular expressions. \n",
    "\n",
    "**Let's start our first regular expression**\n",
    "\n",
    "Finding the target word in the big text. For example: if you want to search any specific word in the big corpus you can use this syntax to get the word. \n"
   ]
  },
  {
   "cell_type": "markdown",
   "id": "6c99f526-4e1d-4c71-8235-29ecba7df3a7",
   "metadata": {},
   "source": [
    "In this expression, we can find two kind of components: **literals** (file and .xml) \n",
    "and **metacharacters** (? or *).\n",
    "\n",
    "A regular expression is a pattern of text that consists of ordinary characters \n",
    "(for example, letters a through z or numbers 0 through 9) and special characters \n",
    "known as metacharacters. "
   ]
  },
  {
   "cell_type": "code",
   "execution_count": 24,
   "id": "0577d4ea-7fd3-4381-9bdd-80469d39f857",
   "metadata": {},
   "outputs": [
    {
     "name": "stdout",
     "output_type": "stream",
     "text": [
      "abc\n",
      "abc\n"
     ]
    }
   ],
   "source": [
    "import re  # regular expression \n",
    "\n",
    "test_string = '123abc456789abc123ABC'\n",
    "\n",
    "# pattern \n",
    "pattern = re.compile(r'abc')  # why r here? See bellow\n",
    "\n",
    "matches = pattern.finditer(test_string)  # finditer hleps to iterate over the text string \n",
    "\n",
    "for match in matches:  # iterating to find the matching string\n",
    "    print(match.group())  # returns the string! "
   ]
  },
  {
   "cell_type": "code",
   "execution_count": 23,
   "id": "83ccc914-25c5-4fc9-b244-76da6bcd7b7a",
   "metadata": {},
   "outputs": [
    {
     "name": "stdout",
     "output_type": "stream",
     "text": [
      "<re.Match object; span=(3, 6), match='abc'>\n",
      "<re.Match object; span=(12, 15), match='abc'>\n",
      "\n",
      "Using group function:\n",
      " abc\n"
     ]
    }
   ],
   "source": [
    "# alternate method to run the exat code!\n",
    "\n",
    "matches = re.finditer(r'abc', test_string)  # specifying pattern inside the finditer function! \n",
    "for match in matches: \n",
    "    print(match)\n",
    "    \n",
    "print(\"\\nUsing group function:\\n\", match.group())"
   ]
  },
  {
   "cell_type": "markdown",
   "id": "1aa705ca-afee-4a15-a596-ce924e9d90ff",
   "metadata": {
    "jp-MarkdownHeadingCollapsed": true,
    "tags": []
   },
   "source": [
    "**Why r?**\n",
    "\n",
    "`r` - Raw String. \n",
    "\n",
    "Look at the bellow example"
   ]
  },
  {
   "cell_type": "code",
   "execution_count": 18,
   "id": "ca304b96-c537-499b-baa3-0eb14d22de0c",
   "metadata": {},
   "outputs": [
    {
     "name": "stdout",
     "output_type": "stream",
     "text": [
      "\t learny\n",
      "\\t learny It print whatever the word that present inside the quotes\n"
     ]
    }
   ],
   "source": [
    "a = '\\t learny' \n",
    "b = r'\\t learny'\n",
    "\n",
    "print(a)  # without using r \n",
    "print(b, 'It print whatever the word that present inside the quotes')  # using r "
   ]
  },
  {
   "cell_type": "markdown",
   "id": "74eaacca-d29d-4933-a739-6573f0c3f74d",
   "metadata": {},
   "source": [
    "**Performing matches with compiled objects**\n",
    "Once we have our pattern, we can search for this pattern in the text / string that we want to look up.\n",
    "\n",
    "* `match()`: Determine if the RE matches at the beginning of the string.\n",
    "\n",
    "* `search()`: Scan through a string, looking for any location where this RE matches.\n",
    "\n",
    "* `findall()`: Find all substrings where the RE matches, and returns them as a list.\n",
    "\n",
    "* `finditer()`: Find all substrings where the RE matches, and returns them as an iterator."
   ]
  },
  {
   "cell_type": "code",
   "execution_count": 25,
   "id": "4db4b5f1-d0df-43fd-acba-0892681f2d6f",
   "metadata": {},
   "outputs": [
    {
     "name": "stdout",
     "output_type": "stream",
     "text": [
      "<re.Match object; span=(25, 29), match='code'>\n",
      "(25, 29) 25 29\n",
      "code\n"
     ]
    }
   ],
   "source": [
    "# finditer() \n",
    "\n",
    "my_string = 'I love NLP and I love to code'\n",
    "pattern = re.compile(r'code')\n",
    "matches = pattern.finditer(my_string)\n",
    "for match in matches:\n",
    "    print(match)\n",
    "    print(match.span(), match.start(), match.end())\n",
    "    print(match.group()) # returns the string"
   ]
  },
  {
   "cell_type": "markdown",
   "id": "eb70d5b6-b7e5-4c0f-8630-100bbf787111",
   "metadata": {},
   "source": [
    "Code Explanation: \n",
    "```Python \n",
    "my_string = 'I love NLP and I love to code'  # input text\n",
    "pattern = re.compile(r'code')                # pattern to find in text \n",
    "matches = pattern.finditer(my_string)        # finditer gives the iterator to extract\n",
    "for match in matches:                        # looping through text \n",
    "    print(match)                \n",
    "    print(match.span(), match.start(), match.end())  # span() -> Gives starting and ending index, start() -> gives start index\n",
    "    print(match.group())                             # returns the string\n",
    "```"
   ]
  },
  {
   "cell_type": "code",
   "execution_count": 32,
   "id": "da8b729a-85ee-4467-84cd-e3cb5e26f6b2",
   "metadata": {},
   "outputs": [
    {
     "data": {
      "text/plain": [
       "['code']"
      ]
     },
     "execution_count": 32,
     "metadata": {},
     "output_type": "execute_result"
    }
   ],
   "source": [
    "# findall() \n",
    "pattern = re.compile(r'code')\n",
    "matches = pattern.findall(my_string)  # findall returns a list of all extracted values! \n",
    "matches  # returns a list "
   ]
  },
  {
   "cell_type": "code",
   "execution_count": 34,
   "id": "6482797f-e322-4639-a0bc-fd6f220357db",
   "metadata": {},
   "outputs": [
    {
     "name": "stdout",
     "output_type": "stream",
     "text": [
      "None\n"
     ]
    }
   ],
   "source": [
    "# match()\n",
    "pattern = re.compile(r'code')\n",
    "match = pattern.match(my_string)  # It determines the RE matches begining of the sentences! \n",
    "print(match)  "
   ]
  },
  {
   "cell_type": "code",
   "execution_count": 36,
   "id": "258fd522-5ca0-4fc9-9bad-35d987c6fd88",
   "metadata": {},
   "outputs": [
    {
     "name": "stdout",
     "output_type": "stream",
     "text": [
      "<re.Match object; span=(25, 29), match='code'>\n"
     ]
    }
   ],
   "source": [
    "# search() \n",
    "match = pattern.search(my_string)  # Scan through a string, looking for any location where this RE matches.\n",
    "print(match)"
   ]
  },
  {
   "cell_type": "markdown",
   "id": "3f1f80e4-8dc0-49d4-90c6-97a7170689ac",
   "metadata": {},
   "source": [
    "**Methods on a Match object**\n",
    "\n",
    "* `group():` Return the string matched by the RE\n",
    "* `start():` Return the starting position of the match\n",
    "* `end():` Return the ending position of the match\n",
    "* `span():` Return a tuple containing the (start, end) positions of the match"
   ]
  },
  {
   "cell_type": "code",
   "execution_count": 38,
   "id": "4633a4c2-692c-474d-b7ab-0af0a7941021",
   "metadata": {},
   "outputs": [
    {
     "name": "stdout",
     "output_type": "stream",
     "text": [
      "<re.Match object; span=(25, 29), match='code'>\n",
      "(25, 29) 25 29\n",
      "code\n"
     ]
    }
   ],
   "source": [
    "# Example for methods on a match object! \n",
    "my_string = 'I love NLP and I love to code'\n",
    "pattern = re.compile(r'code')\n",
    "matches = pattern.finditer(my_string)\n",
    "for match in matches:\n",
    "    print(match)\n",
    "    print(match.span(), match.start(), match.end())\n",
    "    print(match.group()) # returns the string"
   ]
  },
  {
   "cell_type": "markdown",
   "id": "47250e87-c116-4b98-bbf1-ce0c5aab387e",
   "metadata": {},
   "source": [
    "Let's see some important concept, Metacharacters! \n",
    "\n",
    "### **Meta characters**\n",
    "* Metacharacters are characters with a special meaning:\n",
    "* All meta characters: `. ^ $ * + ? { } [ ] \\ | ( )`\n",
    "* Meta characters need need to be escaped (with ) if we actually want to search for the char.\n",
    "\n",
    "* `.` Any character (except newline character) \"he..o\"\n",
    "* `^` Starts with \"^hello\"\n",
    "* `$` Ends with \"world$\"\n",
    "* `*` Zero or more occurrences \"aix*\"\n",
    "* `+` One or more occurrences \"aix+\"\n",
    "* `{ }` Exactly the specified number of occurrences \"al{2}\"\n",
    "* `[]` A set of characters \"[a-m]\"\n",
    "* `\\` Signals a special sequence (can also be used to escape special characters) \"\\d\"\n",
    "* `|` Either or \"falls|stays\"\n",
    "* `( )` Capture and group"
   ]
  },
  {
   "cell_type": "markdown",
   "id": "0fa1ef7f-f5e9-4d7c-a81b-36b02304c0ad",
   "metadata": {},
   "source": [
    "Examples of asterisk, question mark: \n",
    "\n",
    "Here,  it's not uncommon to find the usage of the asterisk `(*)` or the question mark `(?)` to find files. \n",
    "\n",
    "The question mark will match a single character with any value on a filename. \n",
    "For example, a pattern such as file`?`.xml will match file`1`.xml, file`2`.xml, \n",
    "and file`3`.xml, but it won't match file`99`.xml as the pattern expresses that \n",
    "anything that starts with file, followed by just one character of any value, \n",
    "and ends with .xml, will be matched.\n",
    "\n",
    "A similar meaning is defined for asterisk `(*)`. When asterisk is used, any number of \n",
    "characters with any value is accepted. In the case of file*.xml, anything that starts \n",
    "with file, followed by any number of characters of any value, and finishes with \n",
    ".xml, will be matched. like file99.xml, file1234.xml etc. "
   ]
  },
  {
   "cell_type": "markdown",
   "id": "189fa376-530d-45cf-8438-4ac6da9d0546",
   "metadata": {},
   "source": [
    "**More Meta Characters**\n",
    "vA special sequence is a \\ followed by one of the characters in the list below, and has a special meaning:\n",
    "\n",
    "* `\\d` :Matches any `decimal digit`; this is equivalent to the class `[0-9`].\n",
    "* `\\D` : Matches any `non-digit character`; this is equivalent to the class `[^0-9]`.\n",
    "* `\\s` : Matches any `whitespace character`;\n",
    "* `\\S` : Matches any `non-whitespace character`;\n",
    "* `\\w` : Matches any `alphanumeric` (word) character; this is equivalent to the class `[a-zA-Z0-9_]`.\n",
    "* `\\W` : Matches any `non-alphanumeric` character; this is equivalent to the class `[^a-zA-Z0-9_]`.\n",
    "* `\\b` Returns a match where the specified characters are at the `beginning` or at the `end` of a word r\"\\bain\" r\"ain\\b\"\n",
    "* `\\B` Returns a match where the specified characters are `present`, but NOT at the beginning (or at the end) of a word r\"\\Bain\" r\"ain\\B\"\n",
    "* `\\A` Returns a match if the specified characters are at the `beginning` of the string \"\\AThe\"\n",
    "* `\\Z` Returns a match if the specified characters are at the `end` of the string \"Spain\\Z\"\n",
    "\n",
    "Let's see some examples: "
   ]
  },
  {
   "cell_type": "code",
   "execution_count": 43,
   "id": "fe3809a1-1476-4999-8cfe-798bd71de66e",
   "metadata": {},
   "outputs": [
    {
     "name": "stdout",
     "output_type": "stream",
     "text": [
      ".\n",
      ".\n"
     ]
    }
   ],
   "source": [
    "# Examples! \n",
    "test_string = 'www.wikipedia.com'\n",
    "pattern = re.compile(r'\\.')  # \\ -> signales that special sequences, . -> any character except new line character!\n",
    "matches = pattern.finditer(test_string)\n",
    "\n",
    "for match in matches:\n",
    "    print(match.group())"
   ]
  },
  {
   "cell_type": "code",
   "execution_count": 46,
   "id": "9b987692-b55e-4140-9be9-af9be8449924",
   "metadata": {},
   "outputs": [
    {
     "name": "stdout",
     "output_type": "stream",
     "text": [
      "1\n",
      "2\n",
      "3\n",
      "\n",
      "Finall:\n",
      " ['1', '2', '3']\n"
     ]
    }
   ],
   "source": [
    "# Examples!\n",
    "test_string = 'hello 123_ heyho hohey'\n",
    "pattern = re.compile(r'\\d')  # matches any decimal digit\n",
    "matches = pattern.finditer(test_string)\n",
    "for match in matches:\n",
    "    print(match.group())\n",
    "    \n",
    "# (or)\n",
    "matches = pattern.findall(test_string) \n",
    "print('\\nFinall:\\n', matches)"
   ]
  },
  {
   "cell_type": "code",
   "execution_count": 52,
   "id": "748598cb-c1c2-4aa4-8b6c-2a843472ee55",
   "metadata": {},
   "outputs": [
    {
     "name": "stdout",
     "output_type": "stream",
     "text": [
      "All matches: [' ', ' ', ' ', ' ', ' ', ' ']\n",
      "\n",
      "character: <re.Match object; span=(1, 2), match=' '>\n",
      "start index: 1\n",
      "end inde: 2\n",
      "\n",
      "character: <re.Match object; span=(6, 7), match=' '>\n",
      "start index: 6\n",
      "end inde: 7\n",
      "\n",
      "character: <re.Match object; span=(9, 10), match=' '>\n",
      "start index: 9\n",
      "end inde: 10\n",
      "\n",
      "character: <re.Match object; span=(14, 15), match=' '>\n",
      "start index: 14\n",
      "end inde: 15\n",
      "\n",
      "character: <re.Match object; span=(20, 21), match=' '>\n",
      "start index: 20\n",
      "end inde: 21\n",
      "\n",
      "character: <re.Match object; span=(25, 26), match=' '>\n",
      "start index: 25\n",
      "end inde: 26\n"
     ]
    }
   ],
   "source": [
    "# Examples! \n",
    "test_string = \"I love to code along with song\" \n",
    "pattern = re.compile('\\s')  # matches any white space character \n",
    "matches = pattern.findall(test_string) \n",
    "print('All matches:', matches)\n",
    "\n",
    "# If you want to find start and ending index of each whitespace! \n",
    "matches = pattern.finditer(test_string) \n",
    "for match in matches: \n",
    "    print('\\ncharacter:', match) \n",
    "    print('start index:', match.start()) \n",
    "    print('end inde:', match.end())"
   ]
  },
  {
   "cell_type": "code",
   "execution_count": 56,
   "id": "5c8f0375-ab86-4ee1-bdb2-d2e03370c006",
   "metadata": {},
   "outputs": [],
   "source": [
    "# Examples!\n",
    "test_string = 'hello 123_ heyho hohey'\n",
    "pattern = re.compile(r'\\D')  # matches any non digit character \n",
    "matches = pattern.findall(test_string)\n",
    "# matches"
   ]
  },
  {
   "cell_type": "code",
   "execution_count": 59,
   "id": "bc31b02e-9ba9-4eeb-bc77-3338c7eb2bf9",
   "metadata": {},
   "outputs": [],
   "source": [
    "# Examples! \n",
    "test_string = 'I want to get 1st rank'\n",
    "pattern = re.compile(r'\\w')  # matches any alpha numberic character \n",
    "matches = pattern.findall(test_string)\n",
    "# matches"
   ]
  },
  {
   "cell_type": "code",
   "execution_count": 64,
   "id": "ac239252-b1cb-495c-b9b5-31eed5172c4c",
   "metadata": {},
   "outputs": [
    {
     "name": "stdout",
     "output_type": "stream",
     "text": [
      "<re.Match object; span=(0, 1), match='I'>\n",
      "<re.Match object; span=(21, 22), match='I'>\n"
     ]
    }
   ],
   "source": [
    "# Examples! \n",
    "test_string = 'I love to walk alone I' \n",
    "pattern = re.compile(r'\\bI')  # \\b returns a match where the specified characters are at the beginning or at the end of a word\n",
    "matches = pattern.finditer(test_string) \n",
    "for match in matches:\n",
    "    print(match)"
   ]
  },
  {
   "cell_type": "code",
   "execution_count": 67,
   "id": "b938932a-3db4-4b76-8fd2-6848adfa8dd6",
   "metadata": {},
   "outputs": [
    {
     "name": "stdout",
     "output_type": "stream",
     "text": [
      "<re.Match object; span=(0, 6), match='Always'>\n"
     ]
    }
   ],
   "source": [
    "# Examples! \n",
    "test_string = \"Always rocking\"\n",
    "pattern = re.compile(r'\\AAlways')  # \\A ->  Returns a match if the specified characters are at the beginning of the string\n",
    "matches = pattern.finditer(test_string)\n",
    "for match in matches:\n",
    "    print(match)"
   ]
  },
  {
   "cell_type": "code",
   "execution_count": 74,
   "id": "1aa8b6d9-ecb3-45cd-b5f3-05721b48212b",
   "metadata": {},
   "outputs": [
    {
     "name": "stdout",
     "output_type": "stream",
     "text": [
      "<re.Match object; span=(31, 32), match='_'>\n"
     ]
    }
   ],
   "source": [
    "# Examples! \n",
    "test_string = 'This is the meaning of nothing _'\n",
    "pattern = re.compile(r'_\\Z')\n",
    "matches = pattern.finditer(test_string)\n",
    "for match in matches:\n",
    "    print(match)"
   ]
  },
  {
   "cell_type": "markdown",
   "id": "ef61e1b9-067a-459b-adbb-3b03e1f20a9a",
   "metadata": {},
   "source": [
    "### **Sets**\n",
    "\n",
    "* A set is a set of characters inside a pair of square brackets `[]` with a special meaning. Append multiple conditions back-to back, e.g. `[aA-Z]`.\n",
    "* A `^` (caret) inside a set negates the expression.\n",
    "* A `-`(dash) in a set specifies a range if it is in between, otherwise the dash itself."
   ]
  },
  {
   "cell_type": "code",
   "execution_count": 75,
   "id": "a7df8948-c990-4c7c-b3fd-3c62d8c0b2eb",
   "metadata": {},
   "outputs": [
    {
     "name": "stdout",
     "output_type": "stream",
     "text": [
      "<re.Match object; span=(0, 1), match='h'>\n",
      "<re.Match object; span=(1, 2), match='e'>\n",
      "<re.Match object; span=(2, 3), match='l'>\n",
      "<re.Match object; span=(3, 4), match='l'>\n",
      "<re.Match object; span=(4, 5), match='o'>\n"
     ]
    }
   ],
   "source": [
    "# Examples! \n",
    "test_string = 'hello 123_'\n",
    "pattern = re.compile(r'[a-z]')  # it returns everything present a to z alphabets, but it won't give captial letters! \n",
    "matches = pattern.finditer(test_string)\n",
    "for match in matches:\n",
    "    print(match)"
   ]
  },
  {
   "cell_type": "code",
   "execution_count": 76,
   "id": "046fdcad-00e4-464c-8d54-dd5f3bbe453b",
   "metadata": {},
   "outputs": [
    {
     "name": "stdout",
     "output_type": "stream",
     "text": [
      "<re.Match object; span=(0, 1), match='I'>\n",
      "<re.Match object; span=(10, 11), match='R'>\n",
      "<re.Match object; span=(15, 16), match='B'>\n"
     ]
    }
   ],
   "source": [
    "# Examples! \n",
    "test_string = 'I love to Read Books'\n",
    "pattern = re.compile(r'[A-Z]')  # It returns only the captial letter between A to Z! \n",
    "matches = pattern.finditer(test_string)\n",
    "for match in matches:\n",
    "    print(match)"
   ]
  },
  {
   "cell_type": "code",
   "execution_count": 77,
   "id": "76b28af4-dc98-4811-aed1-ce432f0b1019",
   "metadata": {},
   "outputs": [
    {
     "data": {
      "text/plain": [
       "['4', '4']"
      ]
     },
     "execution_count": 77,
     "metadata": {},
     "output_type": "execute_result"
    }
   ],
   "source": [
    "# Examples! \n",
    "test_string = 'I read lots of NLP books between 4am to 4pm' \n",
    "pattern = re.compile(r'[0-9]')  # It returns the numbers between 0 to 9 \n",
    "matches = pattern.findall(test_string) \n",
    "matches"
   ]
  },
  {
   "cell_type": "code",
   "execution_count": 80,
   "id": "f4fc40d6-af8c-48cf-97d2-44c6f7e85789",
   "metadata": {},
   "outputs": [],
   "source": [
    "#Examples! \n",
    "test_string = 'I love to Read Books'\n",
    "pattern = re.compile(r'[a-zA-Z]')  # It all the characters betweeen A to Z in both cases! \n",
    "matches = pattern.finditer(test_string)\n",
    "for match in matches:\n",
    "    # print(match)\n",
    "    pass"
   ]
  },
  {
   "cell_type": "code",
   "execution_count": 83,
   "id": "24535ed4-0dab-4d8c-9d0e-8a46163a5cf7",
   "metadata": {},
   "outputs": [],
   "source": [
    "# Examples! \n",
    "test_string = \"I love to cycling\" \n",
    "pattern = re.compile(r'[^ing]')  # ^ returns a character except the specified character! \n",
    "matches = pattern.finditer(test_string) \n",
    "# for match in matches: print(match)   ## uncomment this! "
   ]
  },
  {
   "cell_type": "code",
   "execution_count": 85,
   "id": "ce7a4c53-a887-4fe3-bfd8-16eb8821d1ff",
   "metadata": {},
   "outputs": [
    {
     "name": "stdout",
     "output_type": "stream",
     "text": [
      "<re.Match object; span=(1, 2), match='o'>\n",
      "<re.Match object; span=(5, 6), match='r'>\n",
      "<re.Match object; span=(8, 9), match='r'>\n",
      "<re.Match object; span=(9, 10), match='o'>\n",
      "<re.Match object; span=(10, 11), match='c'>\n",
      "<re.Match object; span=(11, 12), match='k'>\n",
      "<re.Match object; span=(12, 13), match='i'>\n",
      "<re.Match object; span=(13, 14), match='n'>\n",
      "<re.Match object; span=(14, 15), match='g'>\n"
     ]
    }
   ],
   "source": [
    "# Exxamples! \n",
    "test_string = 'you are rocking' \n",
    "pattern = re.compile(r'[rocking]')  # returns this specified character! \n",
    "matches = pattern.finditer(test_string)\n",
    "for match in matches: print(match)"
   ]
  },
  {
   "cell_type": "markdown",
   "id": "8aadfcd1-d6a1-4768-99d3-cc37d6cb80d9",
   "metadata": {},
   "source": [
    "`Examples overview:`\n",
    "\n",
    "- `[arn] `Returns a match where one of the specified characters (a, r, or n) are present\n",
    "- `[a-n]` Returns a match for any lower case character, alphabetically between a and n\n",
    "- `[^arn]` Returns a match for any character EXCEPT a, r, and n\n",
    "- `[0123]` Returns a match where any of the specified digits (0, 1, 2, or 3) are present\n",
    "- `[0-9]` Returns a match for any digit between 0 and 9\n",
    "- `0-5` Returns a match for any two-digit numbers from 00 and 59\n",
    "- `[a-zA-Z]` Returns a match for any character alphabetically between a and z, lower case OR upper case"
   ]
  },
  {
   "cell_type": "markdown",
   "id": "e012f70a-98f3-4b34-b77e-85b6c7635695",
   "metadata": {},
   "source": [
    "Let's for some beutiful examples, extract the dates now!"
   ]
  },
  {
   "cell_type": "code",
   "execution_count": 86,
   "id": "ef81babf-440c-4856-a7ae-e9b4122c83da",
   "metadata": {},
   "outputs": [
    {
     "data": {
      "text/plain": [
       "['01.04.2020']"
      ]
     },
     "execution_count": 86,
     "metadata": {},
     "output_type": "execute_result"
    }
   ],
   "source": [
    "dates = '01.04.2020'  \n",
    "\n",
    "pattern = re.compile(r'\\d\\d.\\d\\d.\\d\\d\\d\\d')  # \\d returns the digit! \n",
    "matches = re.findall(pattern, dates) \n",
    "matches"
   ]
  },
  {
   "cell_type": "markdown",
   "id": "4e4e7a35-1285-409c-986b-293f9706555c",
   "metadata": {},
   "source": [
    "Similarly you can retrive all format of dates~"
   ]
  },
  {
   "cell_type": "code",
   "execution_count": 89,
   "id": "dc420001-6e2d-48fc-a16a-8b7026586b40",
   "metadata": {},
   "outputs": [
    {
     "data": {
      "text/plain": [
       "['2020_04_04']"
      ]
     },
     "execution_count": 89,
     "metadata": {},
     "output_type": "execute_result"
    }
   ],
   "source": [
    "dates = '2020_04_04' \n",
    "\n",
    "pattern = re.compile(r'\\d\\d\\d\\d[_]\\d\\d[_]\\d\\d')  # \\d returns the digit, [underscore(_)] -> it returns only the underscore! \n",
    "matches = re.findall(pattern, dates) \n",
    "matches               "
   ]
  },
  {
   "cell_type": "code",
   "execution_count": 91,
   "id": "75cd7b05-8283-4290-8975-0548dcac9d98",
   "metadata": {},
   "outputs": [
    {
     "data": {
      "text/plain": [
       "['2020/04/02']"
      ]
     },
     "execution_count": 91,
     "metadata": {},
     "output_type": "execute_result"
    }
   ],
   "source": [
    "dates = '2020/04/02' \n",
    "\n",
    "pattern = re.compile(r'\\d\\d\\d\\d[/]\\d\\d[/]\\d\\d')  # [/] it returns / this character\n",
    "matches = re.findall(pattern, dates) \n",
    "matches"
   ]
  },
  {
   "cell_type": "code",
   "execution_count": 102,
   "id": "57e13627-0b56-4c06-b17d-10259ac0831e",
   "metadata": {},
   "outputs": [
    {
     "data": {
      "text/plain": [
       "['2020.04.01',\n",
       " '2020-04-01',\n",
       " '2020-05-23',\n",
       " '2020-06-11',\n",
       " '2020-07-11',\n",
       " '2020-08-11',\n",
       " '2020/04/02',\n",
       " '2020_04_04',\n",
       " '2020_04_04']"
      ]
     },
     "execution_count": 102,
     "metadata": {},
     "output_type": "execute_result"
    }
   ],
   "source": [
    "# Final Examples! \n",
    "dates = '''\n",
    "2020.04.01\n",
    "\n",
    "2020-04-01\n",
    "2020-05-23\n",
    "2020-06-11\n",
    "2020-07-11\n",
    "2020-08-11\n",
    "\n",
    "2020/04/02\n",
    "\n",
    "2020_04_04\n",
    "2020_04_04\n",
    "'''\n",
    "\n",
    "# If you want to get all kind of dates! \n",
    "pattern = re.compile(r'\\d\\d\\d\\d[-./_]\\d\\d[-./_]\\d\\d') # [-./_] this will return all the sequences if present \n",
    "matches = pattern.findall(dates)\n",
    "matches"
   ]
  },
  {
   "cell_type": "markdown",
   "id": "757ed269-acca-42a2-9fcf-0bb3acd6b74d",
   "metadata": {},
   "source": [
    "### Quantifier: \n",
    "\n",
    "* `'*'` : 0 or more\n",
    "* `'+'` : 1 or more\n",
    "* `?` : 0 or 1, used when a character can be optional\n",
    "* `{4}` : exact number\n",
    "* `{4,6}` : range numbers (min, max)"
   ]
  },
  {
   "cell_type": "code",
   "execution_count": 109,
   "id": "b572a7b0-e025-47eb-ba52-85a046ed1474",
   "metadata": {},
   "outputs": [
    {
     "data": {
      "text/plain": [
       "['12']"
      ]
     },
     "execution_count": 109,
     "metadata": {},
     "output_type": "execute_result"
    }
   ],
   "source": [
    "# Examples! \n",
    "test_string = 'one of the good thing is sleeping daily 12 hr'\n",
    "pattern = re.compile(r'\\d+')\n",
    "matches = pattern.findall(test_string)\n",
    "matches"
   ]
  },
  {
   "cell_type": "code",
   "execution_count": 111,
   "id": "e4392e3a-ef9c-41e3-9c2d-fccb97b9d2e1",
   "metadata": {},
   "outputs": [
    {
     "data": {
      "text/plain": [
       "['_1', '_2', '3']"
      ]
     },
     "execution_count": 111,
     "metadata": {},
     "output_type": "execute_result"
    }
   ],
   "source": [
    "# Examples! \n",
    "my_string = 'hello_1_2-3'\n",
    "pattern = re.compile(r'_?\\d')  \n",
    "matches = pattern.findall(my_string)\n",
    "matches"
   ]
  },
  {
   "cell_type": "code",
   "execution_count": 115,
   "id": "1240ca56-45cc-4251-99c1-69ba9d28b5c7",
   "metadata": {},
   "outputs": [
    {
     "name": "stdout",
     "output_type": "stream",
     "text": [
      "<re.Match object; span=(0, 4), match='2020'>\n"
     ]
    }
   ],
   "source": [
    "# Examples!\n",
    "my_string = '2020-04-01'\n",
    "pattern = re.compile(r'\\d{4}') \n",
    "matches = pattern.finditer(my_string)\n",
    "for match in matches:\n",
    "    print(match)"
   ]
  },
  {
   "cell_type": "code",
   "execution_count": 116,
   "id": "ea73242b-8947-49d0-87a9-e544fa8ee899",
   "metadata": {},
   "outputs": [
    {
     "name": "stdout",
     "output_type": "stream",
     "text": [
      "<re.Match object; span=(0, 4), match='2020'>\n",
      "<re.Match object; span=(5, 7), match='04'>\n",
      "<re.Match object; span=(8, 10), match='01'>\n"
     ]
    }
   ],
   "source": [
    "my_string = '2020-04-01'\n",
    "pattern = re.compile(r'\\d{2,5}')   # \\d -> digits range between {2-5} \n",
    "matches = pattern.finditer(my_string)\n",
    "for match in matches:\n",
    "    print(match)"
   ]
  },
  {
   "cell_type": "code",
   "execution_count": 120,
   "id": "eab0c2bb-486b-4a77-9630-9ad37968bb15",
   "metadata": {},
   "outputs": [
    {
     "name": "stdout",
     "output_type": "stream",
     "text": [
      "['2020.04.01', '2020-04-01', '2020-05-23', '2020-06-11', '2020-07-11', '2020-08-11', '2020/04/02', '2020_04_04', '2020_04_04']\n",
      "\n",
      " ['2020.04.01', '2020-04-01', '2020-05-23', '2020-06-11', '2020-07-11', '2020-08-11', '2020/04/02', '2020_04_04', '2020_04_04']\n"
     ]
    }
   ],
   "source": [
    "# Let's use this technqiues to extract the dates! \n",
    "dates = '''\n",
    "2020.04.01\n",
    "\n",
    "2020-04-01\n",
    "2020-05-23\n",
    "2020-06-11\n",
    "2020-07-11\n",
    "2020-08-11\n",
    "\n",
    "2020/04/02\n",
    "\n",
    "2020_04_04\n",
    "2020_04_04\n",
    "'''\n",
    "pattern = re.compile(r'\\d{4}.\\d{2}.\\d{2}')  \n",
    "matches = pattern.findall(dates)\n",
    "print(matches)\n",
    "pattern = re.compile(r'\\d+.\\d+.\\d+')  # + -> 0 or more digits \n",
    "matches = pattern.findall(dates)\n",
    "print('\\n', matches)"
   ]
  },
  {
   "cell_type": "markdown",
   "id": "99d6b429-64aa-473e-8f7f-61ee91cf75d8",
   "metadata": {},
   "source": [
    "### Conditions\n",
    "Use the `|`for either or condition."
   ]
  },
  {
   "cell_type": "code",
   "execution_count": 136,
   "id": "11a6e9fe-ad6c-42a0-a7fb-cd423786ff85",
   "metadata": {},
   "outputs": [
    {
     "data": {
      "text/plain": [
       "['Iron Man']"
      ]
     },
     "execution_count": 136,
     "metadata": {},
     "output_type": "execute_result"
    }
   ],
   "source": [
    "# Examples! \n",
    "my_string = ''' \n",
    "Iron Man\n",
    "Strong Man\n",
    "Super Man \n",
    "Duper Man \n",
    "''' \n",
    "\n",
    "pattern = re.compile(r'Iron\\.?\\s\\w+')\n",
    "matches = re.findall(pattern, my_string) \n",
    "matches"
   ]
  },
  {
   "cell_type": "code",
   "execution_count": 142,
   "id": "1a71405f-b101-4f97-b4ab-0ed33baf332f",
   "metadata": {},
   "outputs": [
    {
     "name": "stdout",
     "output_type": "stream",
     "text": [
      "<re.Match object; span=(2, 10), match='Iron Man'>\n",
      "<re.Match object; span=(11, 21), match='Strong Man'>\n",
      "<re.Match object; span=(22, 31), match='Super Man'>\n",
      "<re.Match object; span=(33, 42), match='Duper Man'>\n"
     ]
    }
   ],
   "source": [
    "# Examples! \n",
    "pattern = re.compile(r'(Iron|Strong|Super|Duper)\\s\\w*') \n",
    "matches = re.finditer(pattern, my_string) \n",
    "\n",
    "for match in matches: \n",
    "    print(match)"
   ]
  },
  {
   "cell_type": "markdown",
   "id": "8cedb263-4ea5-42ad-add8-f131e3d25dba",
   "metadata": {},
   "source": [
    "### Grouping \n",
    "\n",
    "`()` is used to group substrings in the matches"
   ]
  },
  {
   "cell_type": "code",
   "execution_count": 160,
   "id": "b03c8631-3430-46aa-b560-9e184ea4b228",
   "metadata": {},
   "outputs": [
    {
     "name": "stdout",
     "output_type": "stream",
     "text": [
      "<re.Match object; span=(1, 18), match='nothing@gmail.com'>\n",
      "nothing@gmail.com\n",
      "nothing@gmail.com\n",
      "nothing\n",
      "gmail\n",
      "com\n",
      "----------------------------------------------------------------------------------------------------\n",
      "<re.Match object; span=(19, 39), match='apple-company@gmx.de'>\n",
      "apple-company@gmx.de\n",
      "apple-company@gmx.de\n",
      "apple-company\n",
      "gmx\n",
      "de\n",
      "----------------------------------------------------------------------------------------------------\n",
      "<re.Match object; span=(40, 67), match='micro-service@my-domain.org'>\n",
      "micro-service@my-domain.org\n",
      "micro-service@my-domain.org\n",
      "micro-service\n",
      "my-domain\n",
      "org\n",
      "----------------------------------------------------------------------------------------------------\n"
     ]
    }
   ],
   "source": [
    "# Examples! (let's try to extract emails) \n",
    "\n",
    "emails = \"\"\"\n",
    "nothing@gmail.com\n",
    "apple-company@gmx.de\n",
    "micro-service@my-domain.org\n",
    "\"\"\"\n",
    "# pattern = re.compile('[a-zA-Z1-9-]+@[a-zA-Z-]+\\.[a-zA-Z]+')  # helps to extract the first email \n",
    "# pattern = re.compile('[a-zA-Z1-9-]+@[a-zA-Z-]+\\.(com|de)')   # helps to extract the second email\n",
    "pattern = re.compile('([a-zA-Z1-9-]+)@([a-zA-Z-]+)\\.([a-zA-Z]+)')   # helps to extract all types of mails! \n",
    "matches = pattern.finditer(emails)\n",
    "for match in matches:\n",
    "    print(match)\n",
    "    print(match.group())\n",
    "    print(match.group(0))\n",
    "    print(match.group(1))\n",
    "    print(match.group(2))\n",
    "    print(match.group(3))\n",
    "    print('-'*100)\n",
    "\n"
   ]
  },
  {
   "cell_type": "markdown",
   "id": "7883f2c1-5ab0-4a88-bfec-496bba45dd2e",
   "metadata": {},
   "source": [
    "**`sub()`** -> Helps to replace the word in the text. "
   ]
  },
  {
   "cell_type": "code",
   "execution_count": 7,
   "id": "2c1ab675-16a3-4601-ab9c-b1bbed2f7f33",
   "metadata": {},
   "outputs": [
    {
     "name": "stdout",
     "output_type": "stream",
     "text": [
      "hello planet, you are the best planet\n"
     ]
    }
   ],
   "source": [
    "# Example! \n",
    "my_string = \"hello world, you are the best world\"\n",
    "pattern = re.compile(r'world')\n",
    "subbed_string = pattern.sub(r'planet', my_string)\n",
    "print(subbed_string)"
   ]
  },
  {
   "cell_type": "markdown",
   "id": "e241d222-8b85-45fd-94cd-2de8cf99f8f4",
   "metadata": {},
   "source": [
    "Want to practic question releated to this? [**click here**](https://www.kaggle.com/code/albeffe/regex-exercises-solutions/notebook)"
   ]
  },
  {
   "cell_type": "markdown",
   "id": "ccb712eb-f076-46e4-96eb-c2f5ae9713c9",
   "metadata": {},
   "source": [
    "### Reference: \n",
    "* [**Regular Expression from Basic**](https://www.python-engineer.com/posts/regular-expressions/)\n",
    "* [**Regular Expression Book(Packt)**](https://www.packtpub.com/product/mastering-python-regular-expressions/9781783283156)"
   ]
  }
 ],
 "metadata": {
  "kernelspec": {
   "display_name": "Python 3 (ipykernel)",
   "language": "python",
   "name": "python3"
  },
  "language_info": {
   "codemirror_mode": {
    "name": "ipython",
    "version": 3
   },
   "file_extension": ".py",
   "mimetype": "text/x-python",
   "name": "python",
   "nbconvert_exporter": "python",
   "pygments_lexer": "ipython3",
   "version": "3.9.7"
  }
 },
 "nbformat": 4,
 "nbformat_minor": 5
}
