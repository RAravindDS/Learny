{
 "cells": [
  {
   "cell_type": "markdown",
   "id": "8e8a2eef-669c-4d3b-a515-dae590fff1ce",
   "metadata": {},
   "source": [
    "<center><h1>𝓝𝓪𝓽𝓾𝓻𝓪𝓵 𝓛𝓪𝓷𝓰𝓾𝓪𝓰𝓮 𝓟𝓻𝓸𝓬𝓮𝓼𝓼𝓲𝓷𝓰</h1></center>"
   ]
  },
  {
   "cell_type": "markdown",
   "id": "34fb18a7-780f-4127-bbf6-7ba30d1ffec3",
   "metadata": {},
   "source": [
    "# __TOC__\n",
    "* [**What is NLP**](#What-is-NLP?)\n",
    "* [**Reviewing some useful string operations**](#Reviewing-some-useful-string-operations:)\n",
    "* [**RoadMap**](#RoadMap:)"
   ]
  },
  {
   "cell_type": "markdown",
   "id": "782b7636-a0f9-4482-89b0-2007748e8763",
   "metadata": {
    "tags": []
   },
   "source": [
    "## What is NLP? \n",
    "* NLP aims to develop methods for solving problems in language, such as information extraction, automatic speech recognition, question answering, and sentiment analysis.\n",
    "* Computational linguistics helps to understand the properties of human language. \n",
    "* It is a part of Computer Science, Human Language, and Artificial Intelligence. It is the technology that is used by machines to understand, analyze, manipulate, and interpret human languages. It helps developers to organize knowledge for performing tasks such as translation, automatic summarization, Named Entity Recognition (NER), speech recognition, relationship extraction, and topic segmentation.\n",
    "\n",
    "<center><img src=\"https://miro.medium.com/max/1400/0*Qq8FcR-mgnvjWZLQ.gif\" width=\"400\"></center>\n"
   ]
  },
  {
   "cell_type": "markdown",
   "id": "36b811f7-49e8-4117-91d2-6c6966dee65b",
   "metadata": {},
   "source": [
    "* In simple words, NLP is one method that helps to make understand human language to machines and perform a task like humans and a lot more than humans. \n",
    "* NLP consist of different fields AI, ML, and DL. \n",
    "\n",
    "<center><img src=\"https://7wdata.be/wp-content/uploads/2021/09/DCF_NLP-in-the-Data-Center_ML-DL-Diagram.png\" width=\"400\"></center>\n",
    "\n",
    "* Human language is complicated - even a short paragraph contains references to the previous words. It's quite complicated to understand by humans as well.\n",
    "\n",
    "* How do we tackle this? Yes, we have a weapon called NLP. NLP with statistical models, we process linguistic features to turn the text into well-structured representation.\n",
    "\n",
    "Let's take a example: if you are typing iron man in google then you can see tony stark name also there, How? How google linking correctly that, this was done by **entity linking**. In NLP it was **Semantic Web**. We will discuss this later!"
   ]
  },
  {
   "cell_type": "markdown",
   "id": "a79bef35-af4b-490f-98d2-8b87315c5a0c",
   "metadata": {},
   "source": [
    "**Let's see some of the applications of NLP:** \n",
    "\n",
    "<center><img src=\"https://static.packt-cdn.com/products/9781838550295/graphics/C13783_01_04.jpg\" width=\"800\"></center>\n",
    "\n",
    "\n",
    "**Use Cases of NLP:**\n",
    "\n",
    "<center><img src=\"https://techvidvan.com/tutorials/wp-content/uploads/sites/2/2020/04/use-cases-of-NLP.jpg\" width=\"600\"/></center>"
   ]
  },
  {
   "cell_type": "markdown",
   "id": "8f564859-f935-4516-9227-7f10081a9e91",
   "metadata": {},
   "source": [
    "**NLP further divided into many parts, Let's see some of them!**\n",
    "\n",
    "<center><img src=\"https://datasolut.com/wp-content/uploads/2021/05/NLP-100-1024x576.jpg\" width=\"600\"></center>"
   ]
  },
  {
   "cell_type": "markdown",
   "id": "7bba51a1-cb7a-4009-b313-c954d6eff1f1",
   "metadata": {},
   "source": [
    "**Application of above diagram:** \n",
    "\n",
    "<center><img src=\"https://miro.medium.com/max/1400/1*he6nMTMHN26DhR7RXfhBoQ.jpeg\" width=\"700\"></center>"
   ]
  },
  {
   "cell_type": "markdown",
   "id": "5fd336a1-7e85-4158-a5f6-0d30c9660adf",
   "metadata": {},
   "source": [
    "**And some more, we have seen NLP, NLU. Let's see about NLI:**\n",
    "\n",
    "<center><img src=\"https://miro.medium.com/max/982/1*P9oYw80JaWLba_knqrgoKw.png\" width=\"600\"></center>\n",
    "\n",
    "**Applications of NLI:**\n",
    "\n",
    "<center><img src=\"https://images.slideplayer.com/16/5025988/slides/slide_3.jpg\" width=\"600\"></center>"
   ]
  },
  {
   "cell_type": "markdown",
   "id": "682a00d0-8edc-4247-9491-a2e3dde697ca",
   "metadata": {},
   "source": [
    "**Before Going to some Theory Concepts, Let's recap our Python String operations. It will help. When we are processing the strings.**\n",
    "\n",
    "## Reviewing some useful string operations:\n",
    "\n",
    "In Python, the text is represented by strings, objects of the str class. Strings are immutable sequences of characters. Creating a string object is easy – we enclose the text in quotation marks:\n",
    "\n",
    "**`word = 'Hello World'`**\n",
    "\n",
    "Now the word variable contains the string Hello World. As we mentioned,\n",
    "strings are sequences of characters, so we can ask for the first item of the\n",
    "sequence:\n",
    "\n",
    "```Python \n",
    "print (word [0])\n",
    "# output:\n",
    "H\n",
    "```\n",
    "\n",
    "Always remember to use parentheses with print, since we are coding in\n",
    "Python 3.x. We can similarly access other indices, as long as the index\n",
    "doesn't go out of bounds:\n",
    "\n",
    "```Python \n",
    "word [4]\n",
    "# output\n",
    "'o'\n",
    "```\n",
    "\n",
    "How about string length? We can use the len method, just like with list and\n",
    "other sequence types:\n",
    "\n",
    "```Python \n",
    "len(word)\n",
    "11\n",
    "```\n",
    "\n",
    "We can also iterate over the characters of a string with sequence methods:\n",
    "```Python \n",
    "for ch in word:\n",
    "    print(ch)\n",
    " \n",
    "# outputs:    \n",
    "H\n",
    "e\n",
    "l\n",
    "l\n",
    "o\n",
    "W\n",
    "o\n",
    "r\n",
    "l\n",
    "d\n",
    "```\n",
    "\n",
    "Now let's go over the more string methods such as counting characters,\n",
    "finding a substring, and changing letter case.\n",
    "\n",
    "`count(fn)` counts the number of occurrences of a character in the string, so the\n",
    "output is 3 here:\n",
    "\n",
    "```Python \n",
    "word.count('l')\n",
    "\n",
    "3\n",
    "```\n",
    "\n",
    "Often, you need to find the index of a character for a number of substring\n",
    "operations such as cutting and slicing the string:\n",
    "\n",
    "```Python \n",
    "word.index(e)\n",
    "\n",
    "1\n",
    "```\n",
    "\n"
   ]
  },
  {
   "cell_type": "markdown",
   "id": "bbd0c5f1-ec8f-43c8-8ee9-6875e1f80b66",
   "metadata": {},
   "source": [
    "Similarly, we can search for substrings in a string with the find method:\n",
    "```Python \n",
    "word.find('World')\n",
    "6\n",
    "```\n",
    "find returns –1 if the substring is not in the string:\n",
    "```Python \n",
    "word.find('Bonjour')\n",
    "-1\n",
    "```\n",
    "Searching for the last occurrence of a substring is also easy:\n",
    "\n",
    "```Python \n",
    "word.rfind('l')\n",
    "9\n",
    "```\n"
   ]
  },
  {
   "cell_type": "markdown",
   "id": "b2a1661c-b6cd-42d1-816d-f999beab7ce5",
   "metadata": {},
   "source": [
    "We can change letter case by the upper and lower methods:\n",
    "```Python \n",
    "word.upper()\n",
    "'HELLO WORLD'\n",
    "```\n",
    "\n",
    "The upper method changes all characters to uppercase. Similarly, the lower\n",
    "method changes all characters to lowercase:\n",
    "```Python \n",
    "word.lower()\n",
    "'hello world'\n",
    "```\n",
    "\n",
    "The capitalize method capitalizes the first character of the string:\n",
    "```Python\n",
    "'hello madam'.capitalize()\n",
    "'Hello madam'\n",
    "```\n",
    "The title method makes the string title case. Title case literally means to\n",
    "make a title, so each word of the string is capitalized:\n",
    "```Python\n",
    "'hello madam'.title()\n",
    "'Hello Madam'\n",
    "```\n",
    "Forming new strings from other strings can be done in several ways. We can\n",
    "concatenate two strings by adding them:\n",
    "```Python\n",
    "'Hello Madam!' + 'Have a nice day.'\n",
    "'Hello Madam!Have a nice day.'\n",
    "```\n"
   ]
  },
  {
   "cell_type": "markdown",
   "id": "8f4eef61-da5e-489b-9104-63da84675e43",
   "metadata": {},
   "source": [
    "We can also multiply a string with an integer. The output will be the string\n",
    "concatenated to itself by the number of times specified by the integer:\n",
    "```Python \n",
    "'sweet ' * 5\n",
    "'sweet sweet sweet sweet '\n",
    "```\n",
    "\n",
    "join is a frequently used method; it takes a list of strings and joins them into\n",
    "one string:\n",
    "```Python \n",
    "' '.join (['hello', 'madam'])\n",
    "'hello madam'\n",
    "```\n",
    "\n",
    "There is a variety of substring methods. Replacing a substring means\n",
    "changing all of its occurrences with another string:\n",
    "```Python \n",
    "'hello madam'.replace('hello', 'good morning')\n",
    "'good morning madam'\n",
    "```"
   ]
  },
  {
   "cell_type": "markdown",
   "id": "49ebcdd1-8a74-41ef-a841-3de63026a77b",
   "metadata": {},
   "source": [
    "Getting a substring by index is called slicing. You can slice a string by\n",
    "specifying the start index and end index. If we want only the second word,\n",
    "we can do the following:\n",
    "```Python\n",
    "word = 'Hello Madam Flower'\n",
    "word [6:11]\n",
    "'Madam'\n",
    "```\n",
    "Getting the first word is similar. Leaving the first index blank means the\n",
    "index starts from zero:\n",
    "```Python\n",
    "word [:5]\n",
    "'Hello'\n",
    "```\n",
    "\n",
    "Leaving the second index blank has a special meaning as well – it means the\n",
    "rest of the string:\n",
    "```Python\n",
    "word [12:]\n",
    "'Flower'\n",
    "```"
   ]
  },
  {
   "cell_type": "code",
   "execution_count": 3,
   "id": "cb91730a-0fd6-4eec-94bc-9a8e00630725",
   "metadata": {},
   "outputs": [
    {
     "name": "stdout",
     "output_type": "stream",
     "text": [
      "H\n",
      "d\n",
      "e\n",
      "l\n",
      "11\n"
     ]
    }
   ],
   "source": [
    "# Basic Operations\n",
    "word = \"Hello World\" \n",
    "\n",
    "print(word[0]) \n",
    "print(word[-1]) \n",
    "print(word[1])\n",
    "print(word[-2]) \n",
    "print(len(word))"
   ]
  },
  {
   "cell_type": "code",
   "execution_count": 4,
   "id": "dcccac47-8bca-43ca-8872-ca0d2adc471f",
   "metadata": {},
   "outputs": [
    {
     "name": "stdout",
     "output_type": "stream",
     "text": [
      "3\n",
      "1\n",
      "6\n",
      "-1\n",
      "9\n",
      "HELLO WORLD\n",
      "hello world\n",
      "Hello World\n",
      "Hello world\n"
     ]
    }
   ],
   "source": [
    "# String Operations: \n",
    "\n",
    "print(word.count('l')) \n",
    "print(word.index('e')) \n",
    "print(word.find('World'))  # return the first index of the matching word \n",
    "print(word.find('nothing'))  # if the word not in the string it will return -1 \n",
    "print(word.rfind('l'))  # helps to find the last occurence of the substring (gives the index-prettly normal stuff) \n",
    "print(word.upper())\n",
    "print(word.lower()) \n",
    "print(word.title())  # this will cpaitalize the first word of the every string (check it out on your own) \n",
    "print(word.capitalize())  # it will capitalize the first word of the string "
   ]
  },
  {
   "cell_type": "code",
   "execution_count": 5,
   "id": "70f1896b-8289-465a-ae09-82c85c9d5090",
   "metadata": {},
   "outputs": [
    {
     "data": {
      "text/plain": [
       "'my name is aravind'"
      ]
     },
     "execution_count": 5,
     "metadata": {},
     "output_type": "execute_result"
    }
   ],
   "source": [
    "'my name is ' + 'aravind'  # string concatenation"
   ]
  },
  {
   "cell_type": "code",
   "execution_count": 6,
   "id": "d215f6ca-ff79-4165-a8c8-f64a9af1089f",
   "metadata": {},
   "outputs": [
    {
     "data": {
      "text/plain": [
       "'aravind aravind aravind aravind aravind '"
      ]
     },
     "execution_count": 6,
     "metadata": {},
     "output_type": "execute_result"
    }
   ],
   "source": [
    "'aravind ' * 5  # multiplying the string "
   ]
  },
  {
   "cell_type": "code",
   "execution_count": 7,
   "id": "77b01253-e040-49b5-b6ee-915e6f4aea8a",
   "metadata": {},
   "outputs": [
    {
     "data": {
      "text/plain": [
       "'hello madan'"
      ]
     },
     "execution_count": 7,
     "metadata": {},
     "output_type": "execute_result"
    }
   ],
   "source": [
    "' '.join(['hello', 'madan'])  # it will join the strings, it takes the list of string and join them into one string "
   ]
  },
  {
   "cell_type": "code",
   "execution_count": 8,
   "id": "fbdcf81e-bb2b-4879-afe8-2603db61f4b5",
   "metadata": {},
   "outputs": [
    {
     "data": {
      "text/plain": [
       "'good morning madam'"
      ]
     },
     "execution_count": 8,
     "metadata": {},
     "output_type": "execute_result"
    }
   ],
   "source": [
    "'hello madam'.replace('hello', 'good morning')"
   ]
  },
  {
   "cell_type": "markdown",
   "id": "d1bbd5b4-d7d4-4a5e-bc0f-f11ea5e09311",
   "metadata": {},
   "source": [
    "**Cheet Sheet**: \n",
    "\n",
    "<center><img src=\"https://miro.medium.com/max/1400/1*ZDXRAf_Ff4UoGa1fICzpjQ.png\" width=\"800\"/></center>"
   ]
  },
  {
   "cell_type": "markdown",
   "id": "c14a570b-1599-4fde-86a0-89edbfcc637d",
   "metadata": {},
   "source": [
    "We don't use this operations too much. Real-world NLP tasks are very complicated. We can't find a solution by using these techniques. We need to have a powerful tool, that helps us to do a lot of things easily. We have lots of tools like nltk, spacy, text blob, and more... You can use whatever tool you need. \n",
    "\n",
    "<center><img src=\"https://miro.medium.com/max/1200/1*qsRJFHCxC0edtLuZeoUi4g.png\" width=\"600\"/></center>"
   ]
  },
  {
   "cell_type": "markdown",
   "id": "e34e4b72-9867-4a94-8d1a-456ef00146f6",
   "metadata": {},
   "source": [
    "### RoadMap: \n",
    "\n",
    "<center><img src=\"https://raw.githubusercontent.com/graykode/nlp-roadmap/master/img/nlp.png\" width=\"1200\"/></center>"
   ]
  },
  {
   "cell_type": "markdown",
   "id": "3bcf1f2f-fdc1-4bac-a369-686f01399703",
   "metadata": {},
   "source": [
    "We will start our journey with **text processing**, some machine learning algorithms, then deep learning models like **RNN, Lstm, GRU** and more... Then we end our journey with **transformers**. "
   ]
  },
  {
   "cell_type": "markdown",
   "id": "d1a51b74-af7d-4654-8303-0bbfb0168d27",
   "metadata": {},
   "source": [
    "<center><img src=\"https://thumbs.gfycat.com/UncomfortableHatefulKakarikis-size_restricted.gif\" width=\"600\"/></center>"
   ]
  }
 ],
 "metadata": {
  "kernelspec": {
   "display_name": "Python 3 (ipykernel)",
   "language": "python",
   "name": "python3"
  },
  "language_info": {
   "codemirror_mode": {
    "name": "ipython",
    "version": 3
   },
   "file_extension": ".py",
   "mimetype": "text/x-python",
   "name": "python",
   "nbconvert_exporter": "python",
   "pygments_lexer": "ipython3",
   "version": "3.9.7"
  }
 },
 "nbformat": 4,
 "nbformat_minor": 5
}
